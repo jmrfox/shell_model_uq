{
 "cells": [
  {
   "cell_type": "markdown",
   "metadata": {},
   "source": [
    "# B(M1) analysis\n",
    "\n",
    "Collect proton/neutron M1 matrix elements from runs using random samples of USDB\n",
    "\n",
    "$ B(M1) = \\left[ g_s^p M_s^p + g_l^p M_l^p +  g_s^n M_s^n + g_l^n M_l^n  \\right] ^2$ \n",
    "\n",
    "Free nucleon values:\n",
    "\n",
    "$g_s^p = 5.5857$\n",
    "\n",
    "$g_s^n = -3.8263 $\n",
    "\n",
    "$g_l^p = 1.0 $\n",
    "\n",
    "$g_l^n = 0.0 $ \n",
    "\n"
   ]
  },
  {
   "cell_type": "code",
   "execution_count": 1,
   "metadata": {},
   "outputs": [],
   "source": [
    "import numpy as np\n",
    "\n",
    "import os\n",
    "from glob import glob\n",
    "from tqdm import tqdm\n",
    "\n",
    "def optimal_n_bins(y,max_bins=100):\n",
    "    from scipy.stats import iqr\n",
    "    n_bins = int((max(y) - min(y))/(2*iqr(y)*len(y)**(-1/3)))\n",
    "    return min(n_bins,max_bins)\n",
    "\n",
    "import matplotlib\n",
    "import matplotlib.pyplot as plt\n",
    "font = {'family' : 'serif',\n",
    "        'serif'  : ['Palatino'],\n",
    "        'weight' : 'normal',\n",
    "        'size'   : 18}\n",
    "\n",
    "matplotlib.rc('font', **font)\n",
    "matplotlib.rc('text', usetex=True)\n",
    "\n",
    "import pandas as pd\n",
    "pd.set_option('display.max_rows', 500)\n",
    "pd.set_option('display.max_columns', 500)\n",
    "\n",
    "import pickle as pkl\n",
    "import sys\n",
    "\n",
    "class HiddenPrints:\n",
    "    def __enter__(self):\n",
    "        self._original_stdout = sys.stdout\n",
    "        sys.stdout = open(os.devnull, 'w')\n",
    "\n",
    "    def __exit__(self, exc_type, exc_val, exc_tb):\n",
    "        sys.stdout.close()\n",
    "        sys.stdout = self._original_stdout"
   ]
  },
  {
   "cell_type": "code",
   "execution_count": 2,
   "metadata": {},
   "outputs": [],
   "source": [
    "from scipy.special import factorial2\n",
    "\n",
    "hbarc = 197300 #keV fm\n",
    "hbar = 6.582E-19 #keV s\n",
    "alpha = 1/137\n",
    "mP = 938272 # kev/c^2\n",
    "#muN = 3.152E-14 # MeV / T\n",
    "muN2 =  alpha*hbarc**3*2*mP**-2 # nuclear magneton squared\n",
    "\n",
    "\n",
    "def Thalf_width(E): #converts energy width (MeV) to Thalf in seconds\n",
    "    return hbar * np.log(2)/(E/1000)\n",
    "\n",
    "def Thalf_width_kev(E):\n",
    "    if E==0.:\n",
    "        return None\n",
    "    return Thalf_width(E)\n",
    "\n",
    "def times_so_far(ls):\n",
    "    out = [0]*len(ls)\n",
    "    for i in range(len(ls)):\n",
    "        out[i] = ls[:i+1].count(ls[i])\n",
    "    return out\n",
    "\n",
    "def j_to_twoj(x):\n",
    "    if '/2' in x:\n",
    "        return int(x.strip('/2'))\n",
    "    else:\n",
    "        return 2*int(x.strip('()'))\n",
    "    \n",
    "def thalf_units_to_sec(units,value):\n",
    "    m=0\n",
    "    if units=='PS':\n",
    "        m = 10**-12\n",
    "    elif units=='NS':\n",
    "        m = 10**-9\n",
    "    elif units=='FS':\n",
    "        m = 10**-15\n",
    "    elif units=='US':\n",
    "        m = 10**-6\n",
    "    elif units=='AS':\n",
    "        m = 10**-18\n",
    "    elif units=='KEV':\n",
    "        pass\n",
    "    if m==0:\n",
    "        return Thalf_width_kev(value)\n",
    "    else:\n",
    "        return m*value\n",
    "    \n",
    "def fLambda(l):\n",
    "    return 8*np.pi*(l+1)/(l*(factorial2(2*l+1)**2))\n",
    "\n",
    "def Bweisskopf(l,A):\n",
    "    # Weisskopf estimate for El\n",
    "    return (1/(4*np.pi)) * (3/(3+l))**2 * (1.2*A**(1/3))**(2*l)\n",
    "    \n",
    "def B_M1_Wu(B):\n",
    "    return B / 1.79"
   ]
  },
  {
   "cell_type": "code",
   "execution_count": 5,
   "metadata": {},
   "outputs": [],
   "source": [
    "csv_raw = 'IAEA_magn_mom_recomm.csv'\n",
    "df_raw = pd.read_csv(csv_raw)"
   ]
  },
  {
   "cell_type": "code",
   "execution_count": 6,
   "metadata": {},
   "outputs": [
    {
     "data": {
      "text/html": [
       "<div>\n",
       "<style scoped>\n",
       "    .dataframe tbody tr th:only-of-type {\n",
       "        vertical-align: middle;\n",
       "    }\n",
       "\n",
       "    .dataframe tbody tr th {\n",
       "        vertical-align: top;\n",
       "    }\n",
       "\n",
       "    .dataframe thead th {\n",
       "        text-align: right;\n",
       "    }\n",
       "</style>\n",
       "<table border=\"1\" class=\"dataframe\">\n",
       "  <thead>\n",
       "    <tr style=\"text-align: right;\">\n",
       "      <th></th>\n",
       "      <th>z</th>\n",
       "      <th>n.n+n.z</th>\n",
       "      <th>symbol</th>\n",
       "      <th>energy [keV]</th>\n",
       "      <th>halflife</th>\n",
       "      <th>spin</th>\n",
       "      <th>magnetic dipole [nm]</th>\n",
       "      <th>method</th>\n",
       "      <th>description</th>\n",
       "      <th>nsr</th>\n",
       "      <th>journal</th>\n",
       "      <th>indc</th>\n",
       "    </tr>\n",
       "  </thead>\n",
       "  <tbody>\n",
       "    <tr>\n",
       "      <th>0</th>\n",
       "      <td>0</td>\n",
       "      <td>1</td>\n",
       "      <td>NN</td>\n",
       "      <td>0</td>\n",
       "      <td>10.2 m</td>\n",
       "      <td>1/2+</td>\n",
       "      <td>-1.9130427(5)</td>\n",
       "      <td>R</td>\n",
       "      <td>Re-evaluated by N.J. Stone (2013StZZ) usually ...</td>\n",
       "      <td>2014Ol01</td>\n",
       "      <td>Chin. Phys. C38 090001 (2014)</td>\n",
       "      <td>indc-nds-0794</td>\n",
       "    </tr>\n",
       "    <tr>\n",
       "      <th>1</th>\n",
       "      <td>1</td>\n",
       "      <td>1</td>\n",
       "      <td>H</td>\n",
       "      <td>0</td>\n",
       "      <td>stable</td>\n",
       "      <td>1/2+</td>\n",
       "      <td>+2.792847351(9)</td>\n",
       "      <td>R</td>\n",
       "      <td>Re-evaluated by N.J. Stone (2013StZZ) usually ...</td>\n",
       "      <td>2014Ol01</td>\n",
       "      <td>Chin. Phys. C38 090001 (2014)</td>\n",
       "      <td>indc-nds-0794</td>\n",
       "    </tr>\n",
       "    <tr>\n",
       "      <th>2</th>\n",
       "      <td>1</td>\n",
       "      <td>2</td>\n",
       "      <td>H</td>\n",
       "      <td>0</td>\n",
       "      <td>stable</td>\n",
       "      <td>1+</td>\n",
       "      <td>+0.857438231(5)</td>\n",
       "      <td>R</td>\n",
       "      <td>Re-evaluated by N.J. Stone (2013StZZ) usually ...</td>\n",
       "      <td>2014Ol01</td>\n",
       "      <td>Chin. Phys. C38 090001 (2014)</td>\n",
       "      <td>indc-nds-0794</td>\n",
       "    </tr>\n",
       "    <tr>\n",
       "      <th>3</th>\n",
       "      <td>1</td>\n",
       "      <td>3</td>\n",
       "      <td>H</td>\n",
       "      <td>0</td>\n",
       "      <td>12.33 y</td>\n",
       "      <td>1/2+</td>\n",
       "      <td>+2.978962460(14))</td>\n",
       "      <td>R</td>\n",
       "      <td>Re-evaluated by N.J. Stone (2013StZZ) usually ...</td>\n",
       "      <td>2014Ol01</td>\n",
       "      <td>Chin. Phys. C38 090001 (2014)</td>\n",
       "      <td>indc-nds-0794</td>\n",
       "    </tr>\n",
       "    <tr>\n",
       "      <th>4</th>\n",
       "      <td>2</td>\n",
       "      <td>3</td>\n",
       "      <td>He</td>\n",
       "      <td>0</td>\n",
       "      <td>stable</td>\n",
       "      <td>1/2+</td>\n",
       "      <td>-2.12762531(3)</td>\n",
       "      <td>R</td>\n",
       "      <td>Re-evaluated by N.J. Stone (2013StZZ) usually ...</td>\n",
       "      <td>2012Mo42</td>\n",
       "      <td>RMP 84 1527 (2012)</td>\n",
       "      <td>indc-nds-0794</td>\n",
       "    </tr>\n",
       "    <tr>\n",
       "      <th>...</th>\n",
       "      <td>...</td>\n",
       "      <td>...</td>\n",
       "      <td>...</td>\n",
       "      <td>...</td>\n",
       "      <td>...</td>\n",
       "      <td>...</td>\n",
       "      <td>...</td>\n",
       "      <td>...</td>\n",
       "      <td>...</td>\n",
       "      <td>...</td>\n",
       "      <td>...</td>\n",
       "      <td>...</td>\n",
       "    </tr>\n",
       "    <tr>\n",
       "      <th>2150</th>\n",
       "      <td>96</td>\n",
       "      <td>247</td>\n",
       "      <td>Cm</td>\n",
       "      <td>0</td>\n",
       "      <td>1.56 x 107 y</td>\n",
       "      <td>9/2-</td>\n",
       "      <td>0.36(7)</td>\n",
       "      <td>EPR</td>\n",
       "      <td>Electron Paramagnetic Resonance</td>\n",
       "      <td>1973Ab03</td>\n",
       "      <td>PL 44A 527 (73)</td>\n",
       "      <td>indc-nds-0794</td>\n",
       "    </tr>\n",
       "    <tr>\n",
       "      <th>2151</th>\n",
       "      <td>97</td>\n",
       "      <td>249</td>\n",
       "      <td>Bk</td>\n",
       "      <td>0</td>\n",
       "      <td>330 d</td>\n",
       "      <td>7/2+</td>\n",
       "      <td>2.0(4)</td>\n",
       "      <td>EPR</td>\n",
       "      <td>Electron Paramagnetic Resonance</td>\n",
       "      <td>1972Bo67</td>\n",
       "      <td>PL 42A 93 (72)</td>\n",
       "      <td>indc-nds-0794</td>\n",
       "    </tr>\n",
       "    <tr>\n",
       "      <th>2152</th>\n",
       "      <td>99</td>\n",
       "      <td>253</td>\n",
       "      <td>Es</td>\n",
       "      <td>0</td>\n",
       "      <td>20.5 d</td>\n",
       "      <td>7/2+</td>\n",
       "      <td>+4.10(7)</td>\n",
       "      <td>AB/D</td>\n",
       "      <td>Atomic Beam Magnetic Resonance (direct moment ...</td>\n",
       "      <td>1975Go05</td>\n",
       "      <td>PR A11 499 (75)</td>\n",
       "      <td>indc-nds-0794</td>\n",
       "    </tr>\n",
       "    <tr>\n",
       "      <th>2153</th>\n",
       "      <td>99</td>\n",
       "      <td>254</td>\n",
       "      <td>Es</td>\n",
       "      <td>84</td>\n",
       "      <td>39.3 h</td>\n",
       "      <td>2+</td>\n",
       "      <td>2.90(7)</td>\n",
       "      <td>AB</td>\n",
       "      <td>Atomic Beam Magnetic Resonance - Thermal Beam</td>\n",
       "      <td>1975Go05</td>\n",
       "      <td>PR A11 499 (75)</td>\n",
       "      <td>indc-nds-0794</td>\n",
       "    </tr>\n",
       "    <tr>\n",
       "      <th>2154</th>\n",
       "      <td>102</td>\n",
       "      <td>253</td>\n",
       "      <td>No</td>\n",
       "      <td>0</td>\n",
       "      <td>1.62 m</td>\n",
       "      <td>(9/2-)</td>\n",
       "      <td>-0.53(8)</td>\n",
       "      <td>CLS</td>\n",
       "      <td>Resonance Cell Laser Spectroscopy</td>\n",
       "      <td>2018Ra11</td>\n",
       "      <td>PRL 120 232503 (2018)</td>\n",
       "      <td>indc-nds-0794</td>\n",
       "    </tr>\n",
       "  </tbody>\n",
       "</table>\n",
       "<p>2155 rows × 12 columns</p>\n",
       "</div>"
      ],
      "text/plain": [
       "        z  n.n+n.z symbol energy [keV]      halflife    spin  \\\n",
       "0       0        1     NN            0        10.2 m    1/2+   \n",
       "1       1        1      H            0        stable    1/2+   \n",
       "2       1        2      H            0        stable      1+   \n",
       "3       1        3      H            0       12.33 y    1/2+   \n",
       "4       2        3     He            0        stable    1/2+   \n",
       "...   ...      ...    ...          ...           ...     ...   \n",
       "2150   96      247     Cm            0  1.56 x 107 y    9/2-   \n",
       "2151   97      249     Bk            0         330 d    7/2+   \n",
       "2152   99      253     Es            0        20.5 d    7/2+   \n",
       "2153   99      254     Es           84        39.3 h      2+   \n",
       "2154  102      253     No            0        1.62 m  (9/2-)   \n",
       "\n",
       "     magnetic dipole [nm] method  \\\n",
       "0           -1.9130427(5)      R   \n",
       "1         +2.792847351(9)      R   \n",
       "2         +0.857438231(5)      R   \n",
       "3       +2.978962460(14))      R   \n",
       "4          -2.12762531(3)      R   \n",
       "...                   ...    ...   \n",
       "2150              0.36(7)    EPR   \n",
       "2151               2.0(4)    EPR   \n",
       "2152             +4.10(7)   AB/D   \n",
       "2153              2.90(7)     AB   \n",
       "2154             -0.53(8)    CLS   \n",
       "\n",
       "                                            description       nsr  \\\n",
       "0     Re-evaluated by N.J. Stone (2013StZZ) usually ...  2014Ol01   \n",
       "1     Re-evaluated by N.J. Stone (2013StZZ) usually ...  2014Ol01   \n",
       "2     Re-evaluated by N.J. Stone (2013StZZ) usually ...  2014Ol01   \n",
       "3     Re-evaluated by N.J. Stone (2013StZZ) usually ...  2014Ol01   \n",
       "4     Re-evaluated by N.J. Stone (2013StZZ) usually ...  2012Mo42   \n",
       "...                                                 ...       ...   \n",
       "2150                    Electron Paramagnetic Resonance  1973Ab03   \n",
       "2151                    Electron Paramagnetic Resonance  1972Bo67   \n",
       "2152  Atomic Beam Magnetic Resonance (direct moment ...  1975Go05   \n",
       "2153      Atomic Beam Magnetic Resonance - Thermal Beam  1975Go05   \n",
       "2154                  Resonance Cell Laser Spectroscopy  2018Ra11   \n",
       "\n",
       "                            journal           indc  \n",
       "0     Chin. Phys. C38 090001 (2014)  indc-nds-0794  \n",
       "1     Chin. Phys. C38 090001 (2014)  indc-nds-0794  \n",
       "2     Chin. Phys. C38 090001 (2014)  indc-nds-0794  \n",
       "3     Chin. Phys. C38 090001 (2014)  indc-nds-0794  \n",
       "4                RMP 84 1527 (2012)  indc-nds-0794  \n",
       "...                             ...            ...  \n",
       "2150                PL 44A 527 (73)  indc-nds-0794  \n",
       "2151                 PL 42A 93 (72)  indc-nds-0794  \n",
       "2152                PR A11 499 (75)  indc-nds-0794  \n",
       "2153                PR A11 499 (75)  indc-nds-0794  \n",
       "2154          PRL 120 232503 (2018)  indc-nds-0794  \n",
       "\n",
       "[2155 rows x 12 columns]"
      ]
     },
     "execution_count": 6,
     "metadata": {},
     "output_type": "execute_result"
    }
   ],
   "source": [
    "df_raw"
   ]
  },
  {
   "cell_type": "code",
   "execution_count": 7,
   "metadata": {},
   "outputs": [],
   "source": [
    "idx = df_usdb[(df_usdb['Mth_sp']==-999.0) | (df_usdb['Mth_lp']==-999.0) | (df_usdb['Mth_sn']==-999.0) | (df_usdb['Mth_ln']==-999.0)].index\n",
    "df_usdb.loc[idx,'Include']=False\n",
    "\n",
    "idx = df_usdb[(df_usdb['Mth_sp']==0.0) & (df_usdb['Mth_lp']==0.0) & (df_usdb['Mth_sn']==0.0) & (df_usdb['Mth_ln']==0.0)].index\n",
    "df_usdb.loc[idx,'Include']=False\n",
    "\n",
    "B_min = 0.01\n",
    "n_max = 6\n",
    "idx = df_usdb[(df_usdb['ni']>n_max) | (df_usdb['nf']>n_max)].index\n",
    "df_usdb.loc[idx,'Include']=False\n",
    "\n",
    "idx = df_usdb[(df_usdb['B_exp (W.u.)']<B_min)].index\n",
    "df_usdb.loc[idx,'Include']=False"
   ]
  },
  {
   "cell_type": "code",
   "execution_count": 8,
   "metadata": {},
   "outputs": [
    {
     "data": {
      "image/png": "[encoded data removed]",
      "text/plain": [
       "<Figure size 432x288 with 1 Axes>"
      ]
     },
     "metadata": {
      "needs_background": "light"
     },
     "output_type": "display_data"
    },
    {
     "data": {
      "image/png": "[encoded data removed]",
      "text/plain": [
       "<Figure size 432x288 with 1 Axes>"
      ]
     },
     "metadata": {
      "needs_background": "light"
     },
     "output_type": "display_data"
    },
    {
     "name": "stdout",
     "output_type": "stream",
     "text": [
      "Out of 109 transitions, 103 are smaller than the Weisskopf estimate\n"
     ]
    }
   ],
   "source": [
    "y = df_usdb['B_exp (W.u.)']\n",
    "plt.hist(y, bins=10, density=False)\n",
    "plt.xlabel('Exp. B(M1) (W.u.)')\n",
    "plt.ylabel('Count')\n",
    "plt.show()\n",
    "\n",
    "y = np.log10(df_usdb['B_exp (W.u.)'])\n",
    "plt.hist(y, bins=10, density=False)\n",
    "plt.xlabel('log Exp. B(M1) (W.u.)')\n",
    "plt.ylabel('Count')\n",
    "plt.show()\n",
    "print(f'Out of {len(y)} transitions, {len(y[y<0])} are smaller than the Weisskopf estimate')"
   ]
  },
  {
   "cell_type": "code",
   "execution_count": 9,
   "metadata": {},
   "outputs": [],
   "source": [
    "# df_input = df_input.rename(columns={'Unnamed: 0':'Index'})\n",
    "df_usdb = df_usdb.rename(columns={'Unnamed: 0':'Index'})"
   ]
  },
  {
   "cell_type": "code",
   "execution_count": 10,
   "metadata": {},
   "outputs": [],
   "source": [
    "# df_input = df_input[df_input['Include']==True]\n",
    "df_usdb = df_usdb[df_usdb['Include']==True]"
   ]
  },
  {
   "cell_type": "code",
   "execution_count": 11,
   "metadata": {},
   "outputs": [],
   "source": [
    "usdbmil = np.loadtxt('/p/lustre2/fox39/shmuq/usdb/shmuq_m1/usdbmil.vec',skiprows=1)\n",
    "usdb = np.loadtxt('/p/lustre2/fox39/shmuq/usdb/shmuq_m1/usdb.vec',skiprows=1)"
   ]
  },
  {
   "cell_type": "code",
   "execution_count": 12,
   "metadata": {},
   "outputs": [
    {
     "name": "stdout",
     "output_type": "stream",
     "text": [
      "# transitions = 88\n"
     ]
    }
   ],
   "source": [
    "n_transitions = len(df_usdb)\n",
    "n_params = 66\n",
    "print('# transitions =', n_transitions)"
   ]
  },
  {
   "cell_type": "code",
   "execution_count": 13,
   "metadata": {},
   "outputs": [
    {
     "data": {
      "text/plain": [
       "Index(['Index', 'A', 'Element', 'Z', 'N', 'Energy (keV)', 'Energy Unc (keV)',\n",
       "       'Ji', 'Thalf', 'E_gamma (keV)', 'E_gamma Unc (keV)', 'I_gamma',\n",
       "       'I_gamma Unc', 'Mult', 'B_exp (W.u.)', 'B_exp Unc (W.u.)', 'twoJi',\n",
       "       'Thalf Value', 'Thalf Units', 'Thalf Unc', 'Thalf (sec)',\n",
       "       'Thalf Unc (sec)', 'B_exp (mu_N^2)', 'B_exp Unc (mu_N^2)', 'Nucleus',\n",
       "       'Jf', 'twoJf', 'ni', 'nf', 'Include', 'Mth_sp', 'Mth_sn', 'Mth_lp',\n",
       "       'Mth_ln'],\n",
       "      dtype='object')"
      ]
     },
     "execution_count": 13,
     "metadata": {},
     "output_type": "execute_result"
    }
   ],
   "source": [
    "df_usdb.keys()"
   ]
  },
  {
   "cell_type": "code",
   "execution_count": 14,
   "metadata": {},
   "outputs": [
    {
     "data": {
      "text/plain": [
       "0.9748832043600705"
      ]
     },
     "execution_count": 14,
     "metadata": {},
     "output_type": "execute_result"
    }
   ],
   "source": [
    "# plot error distribution with free nucleon couplings\n",
    "B_exp = np.array(df_usdb['B_exp (W.u.)'])\n",
    "B_exp_unc = np.array(df_usdb['B_exp Unc (W.u.)'])\n",
    "M_sp = np.array(df_usdb['Mth_sp'])\n",
    "M_lp = np.array(df_usdb['Mth_lp'])\n",
    "M_sn = np.array(df_usdb['Mth_sn'])\n",
    "M_ln = np.array(df_usdb['Mth_ln'])\n",
    "g_sp_free = 5.5857\n",
    "g_lp_free = 1.\n",
    "g_sn_free = -3.8263\n",
    "g_ln_free = 0.\n",
    "\n",
    "def B_th(g_vec):\n",
    "    g_sp, g_lp, g_sn, g_ln = g_vec\n",
    "    B = ( g_sp * M_sp + g_lp * M_lp + g_sn * M_sn + g_ln * M_ln )**2\n",
    "    return B\n",
    "\n",
    "def chi2(g_vec,B_th_unc):\n",
    "    # in W.u.\n",
    "    R2 = (B_exp - B_M1_Wu(B_th(g_vec)))**2 / (B_exp_unc**2 + B_th_unc**2)\n",
    "    chi2 = np.sum(R2)\n",
    "    return chi2\n",
    "\n",
    "n_params = 66\n",
    "n_transitions = len(B_exp)\n",
    "g_vec_free = [g_sp_free, g_lp_free, g_sn_free, g_ln_free]\n",
    "chi2(g_vec_free,0.4)/(n_transitions - n_params)"
   ]
  },
  {
   "cell_type": "code",
   "execution_count": 15,
   "metadata": {},
   "outputs": [
    {
     "name": "stdout",
     "output_type": "stream",
     "text": [
      "0.39391386877509754\n"
     ]
    }
   ],
   "source": [
    "\n",
    "def objective(x):\n",
    "    return (1 -  ( chi2(g_vec_free,x)/(n_transitions-n_params) ) )**2\n",
    "\n",
    "from scipy.optimize import minimize_scalar\n",
    "opt_result = minimize_scalar(objective,)\n",
    "print(opt_result.x)"
   ]
  },
  {
   "cell_type": "code",
   "execution_count": 16,
   "metadata": {},
   "outputs": [
    {
     "name": "stderr",
     "output_type": "stream",
     "text": [
      "findfont: Font family ['serif'] not found. Falling back to DejaVu Sans.\n"
     ]
    },
    {
     "data": {
      "image/png": "[encoded data removed]",
      "text/plain": [
       "<Figure size 720x432 with 1 Axes>"
      ]
     },
     "metadata": {
      "needs_background": "light"
     },
     "output_type": "display_data"
    }
   ],
   "source": [
    "domain = np.linspace(0.2,2,400)\n",
    "y = [objective(x) for x in domain]\n",
    "y2 = [chi2(g_vec_free,x)/(n_transitions - n_params) for x in domain]\n",
    "\n",
    "plt.figure(figsize=(10,6))\n",
    "plt.plot(domain,y,label='Obj')\n",
    "plt.plot(domain,y2,label='chi2')\n",
    "plt.legend(loc = (1.02,0.2))\n",
    "plt.show()"
   ]
  },
  {
   "cell_type": "code",
   "execution_count": 17,
   "metadata": {},
   "outputs": [],
   "source": [
    "B_M1_th_unc = opt_result.x"
   ]
  },
  {
   "cell_type": "code",
   "execution_count": 18,
   "metadata": {},
   "outputs": [
    {
     "name": "stdout",
     "output_type": "stream",
     "text": [
      "[ 5.29598269  0.57335945 -2.68287497 -0.42862994]\n"
     ]
    }
   ],
   "source": [
    "from scipy.optimize import least_squares\n",
    "opt = least_squares(chi2, x0=g_vec_free, args=[B_M1_th_unc])\n",
    "g_vec_opt = opt.x\n",
    "\n",
    "print(g_vec_opt)"
   ]
  },
  {
   "cell_type": "code",
   "execution_count": 19,
   "metadata": {},
   "outputs": [
    {
     "data": {
      "image/png": "[encoded data removed]",
      "text/plain": [
       "<Figure size 432x288 with 1 Axes>"
      ]
     },
     "metadata": {
      "needs_background": "light"
     },
     "output_type": "display_data"
    },
    {
     "data": {
      "image/png": "[encoded data removed]",
      "text/plain": [
       "<Figure size 432x288 with 1 Axes>"
      ]
     },
     "metadata": {
      "needs_background": "light"
     },
     "output_type": "display_data"
    }
   ],
   "source": [
    "y = np.log10(B_exp)\n",
    "plt.hist(y, bins=10, density=False)\n",
    "plt.xlabel('log Exp. B(M1) (W.u.)')\n",
    "plt.ylabel('Count')\n",
    "plt.show()\n",
    "plt.hist(B_exp, bins=10, density=False)\n",
    "plt.xlabel('Exp. B(M1) (W.u.)')\n",
    "plt.ylabel('Count')\n",
    "plt.show()"
   ]
  },
  {
   "cell_type": "code",
   "execution_count": 20,
   "metadata": {},
   "outputs": [
    {
     "data": {
      "image/png": "[encoded data removed]",
      "text/plain": [
       "<Figure size 576x432 with 1 Axes>"
      ]
     },
     "metadata": {
      "needs_background": "light"
     },
     "output_type": "display_data"
    },
    {
     "name": "stdout",
     "output_type": "stream",
     "text": [
      "Average error with no model: 0.26921136363636367\n",
      "Average error with our model: -0.03722062737598697\n",
      "std of errors: 0.2185473116876484\n"
     ]
    }
   ],
   "source": [
    "y = B_exp - B_M1_Wu(B_th(g_vec_free))\n",
    "plt.figure(figsize=(8,6))\n",
    "plt.hist(y,bins=optimal_n_bins(y),density=True,label='Errors')\n",
    "plt.hist(B_exp,bins=optimal_n_bins(B_exp),density=True,label='B exp',alpha=0.5)\n",
    "plt.xlabel(r'$B_{exp}(M1) - B_{th}(M1)$    $(\\mu_N^2)$')\n",
    "plt.ylabel('Density (no units)')\n",
    "plt.title('USDB experimental errors w/ free nucleon couplings')\n",
    "plt.legend()\n",
    "plt.show()\n",
    "\n",
    "print(f'Average error with no model: {np.mean(B_exp)}')\n",
    "print(f'Average error with our model: {np.mean(y)}')\n",
    "\n",
    "print(f'std of errors: {np.std(y)}')"
   ]
  },
  {
   "cell_type": "code",
   "execution_count": 21,
   "metadata": {},
   "outputs": [],
   "source": [
    "df_usdb.loc[:,'B_rel_err (W.u.)'] = (B_exp - B_M1_Wu(B_th(g_vec_free)))/B_exp"
   ]
  },
  {
   "cell_type": "code",
   "execution_count": 22,
   "metadata": {},
   "outputs": [
    {
     "data": {
      "image/png": "[encoded data removed]",
      "text/plain": [
       "<Figure size 576x432 with 1 Axes>"
      ]
     },
     "metadata": {
      "needs_background": "light"
     },
     "output_type": "display_data"
    }
   ],
   "source": [
    "plt.figure(figsize=(8,6))\n",
    "plt.hist(df_usdb['B_rel_err (W.u.)'],bins=20,density=True)\n",
    "plt.xlabel(r'$( B_{exp}(M1) - B_{th}(M1) ) / B_{exp}(M1)$    ')\n",
    "plt.ylabel('Density (no units)')\n",
    "plt.title('USDB relative errors w/ free nucleon couplings')\n",
    "plt.show()"
   ]
  },
  {
   "cell_type": "code",
   "execution_count": 23,
   "metadata": {},
   "outputs": [],
   "source": [
    "B_rel_limit = 5\n",
    "df_usdb.loc[np.abs(df_usdb['B_rel_err (W.u.)'])>B_rel_limit,'Include'] = True"
   ]
  },
  {
   "cell_type": "code",
   "execution_count": null,
   "metadata": {},
   "outputs": [
    {
     "name": "stderr",
     "output_type": "stream",
     "text": [
      "\r",
      "  0%|          | 0/1000 [00:00<?, ?it/s]"
     ]
    },
    {
     "name": "stdout",
     "output_type": "stream",
     "text": [
      "00001\n",
      "00002\n",
      "00003\n",
      "00004\n",
      "00005\n",
      "00006\n",
      "00007\n",
      "00008\n",
      "00009\n",
      "00010\n"
     ]
    },
    {
     "name": "stderr",
     "output_type": "stream",
     "text": [
      "\r",
      "  0%|          | 1/1000 [00:04<1:22:02,  4.93s/it]"
     ]
    },
    {
     "name": "stdout",
     "output_type": "stream",
     "text": [
      "00011\n",
      "00012\n",
      "00013\n",
      "00014\n",
      "00015\n",
      "00016\n",
      "00017\n",
      "00018\n",
      "00019\n",
      "00020\n"
     ]
    },
    {
     "name": "stderr",
     "output_type": "stream",
     "text": [
      "\r",
      "  0%|          | 2/1000 [00:09<1:20:18,  4.83s/it]"
     ]
    },
    {
     "name": "stdout",
     "output_type": "stream",
     "text": [
      "00021\n",
      "00022\n",
      "00023\n",
      "00024\n",
      "00025\n",
      "00026\n",
      "00027\n",
      "00028\n",
      "00029\n",
      "00030\n"
     ]
    },
    {
     "name": "stderr",
     "output_type": "stream",
     "text": [
      "\r",
      "  0%|          | 3/1000 [00:14<1:16:38,  4.61s/it]"
     ]
    },
    {
     "name": "stdout",
     "output_type": "stream",
     "text": [
      "00031\n",
      "00032\n",
      "00033\n",
      "00034\n",
      "00035\n",
      "00036\n",
      "00037\n",
      "00038\n",
      "00039\n",
      "00040\n"
     ]
    },
    {
     "name": "stderr",
     "output_type": "stream",
     "text": [
      "\r",
      "  0%|          | 4/1000 [00:17<1:11:01,  4.28s/it]"
     ]
    },
    {
     "name": "stdout",
     "output_type": "stream",
     "text": [
      "00041\n",
      "00042\n",
      "00043\n",
      "00044\n",
      "00045\n",
      "00046\n",
      "00047\n",
      "00048\n",
      "00049\n",
      "00050\n"
     ]
    },
    {
     "name": "stderr",
     "output_type": "stream",
     "text": [
      "\r",
      "  0%|          | 5/1000 [00:29<1:55:53,  6.99s/it]"
     ]
    },
    {
     "name": "stdout",
     "output_type": "stream",
     "text": [
      "00051\n",
      "00052\n",
      "00053\n",
      "00054\n",
      "00055\n",
      "00056\n",
      "00057\n",
      "00058\n",
      "00059\n",
      "00060\n"
     ]
    },
    {
     "name": "stderr",
     "output_type": "stream",
     "text": [
      "\r",
      "  1%|          | 6/1000 [01:10<5:07:19, 18.55s/it]"
     ]
    },
    {
     "name": "stdout",
     "output_type": "stream",
     "text": [
      "00061\n",
      "00062\n",
      "00063\n",
      "00064\n",
      "00065\n",
      "00066\n",
      "00067\n",
      "00068\n"
     ]
    }
   ],
   "source": [
    "data_path = '/p/lustre2/fox39/shmuq/usdb/shmuq_m1/batch_results'\n",
    "df_dict = {}\n",
    "problem_cases = []\n",
    "numbers_list = []\n",
    "for batch_dir in tqdm(sorted(glob(os.path.join(data_path,'batch_job*')))):\n",
    "#     print(batch_dir)\n",
    "    for csv_path in sorted(glob(os.path.join(batch_dir,'sd_M1_usdb_rand?????.csv'))):\n",
    "        csv_name = os.path.split(csv_path)[-1]\n",
    "#         print(csv_name)\n",
    "        int_vec_name = csv_name[6:].replace('.csv','.vec')\n",
    "#         print(int_vec_name)\n",
    "        mil_vec_name = int_vec_name.replace('usdb','usdbmil')\n",
    "#         print(mil_vec_name)\n",
    "        run_num_string = int_vec_name.split('rand')[-1][:-4]\n",
    "        print(run_num_string)\n",
    "        \n",
    "        numbers_list.append(run_num_string)\n",
    "        \n",
    "        try:\n",
    "            df_dict[run_num_string] = [pd.read_csv(os.path.join(batch_dir,csv_name)), \n",
    "                                   np.loadtxt(os.path.join(batch_dir,int_vec_name),skiprows=1), \n",
    "                                   np.loadtxt(os.path.join(batch_dir,mil_vec_name),skiprows=1)]\n",
    "        except OSError:\n",
    "            problem_cases.append(run_num_string)\n",
    "            print('--------WARNING--------')\n",
    "            print(f'PROBLEM AT {run_num_string}')"
   ]
  },
  {
   "cell_type": "code",
   "execution_count": null,
   "metadata": {
    "scrolled": true
   },
   "outputs": [],
   "source": [
    "with open('m1_results_10k_noF.pkl','wb') as fh:\n",
    "    pkl.dump(df_dict,fh)"
   ]
  },
  {
   "cell_type": "code",
   "execution_count": null,
   "metadata": {
    "scrolled": true
   },
   "outputs": [],
   "source": [
    "for w in problem_cases:\n",
    "    print(w )"
   ]
  },
  {
   "cell_type": "code",
   "execution_count": null,
   "metadata": {},
   "outputs": [],
   "source": [
    "n_samples = len(numbers_list)\n",
    "print(f'Total number of samples = {n_samples}')"
   ]
  },
  {
   "cell_type": "code",
   "execution_count": null,
   "metadata": {},
   "outputs": [],
   "source": []
  }
 ],
 "metadata": {
  "kernelspec": {
   "display_name": "uq",
   "language": "python",
   "name": "uq"
  },
  "language_info": {
   "codemirror_mode": {
    "name": "ipython",
    "version": 3
   },
   "file_extension": ".py",
   "mimetype": "text/x-python",
   "name": "python",
   "nbconvert_exporter": "python",
   "pygments_lexer": "ipython3",
   "version": "3.7.10"
  }
 },
 "nbformat": 4,
 "nbformat_minor": 4
}
