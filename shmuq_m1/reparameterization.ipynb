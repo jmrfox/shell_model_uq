{
 "cells": [
  {
   "cell_type": "code",
   "execution_count": 1,
   "metadata": {},
   "outputs": [],
   "source": [
    "import numpy as np\n",
    "import pickle as pl\n",
    "import matplotlib.pyplot as plt"
   ]
  },
  {
   "cell_type": "code",
   "execution_count": 2,
   "metadata": {},
   "outputs": [],
   "source": [
    "with open('traces_v1.3.pkl','rb') as f:\n",
    "    chain = pl.load(f)"
   ]
  },
  {
   "cell_type": "code",
   "execution_count": 3,
   "metadata": {},
   "outputs": [
    {
     "name": "stdout",
     "output_type": "stream",
     "text": [
      "walker 0\n",
      "    parameter 0\n",
      "        mean = 5.3731\n",
      "        std = 4.8801\n",
      "    parameter 1\n",
      "        mean = -1.9249\n",
      "        std = 4.8865\n",
      "    parameter 2\n",
      "        mean = 1.2185\n",
      "        std = 4.8621\n",
      "    parameter 3\n",
      "        mean = -0.048677\n",
      "        std = 4.8717\n",
      "walker 1\n",
      "    parameter 0\n",
      "        mean = 5.1834\n",
      "        std = 5.1841\n",
      "    parameter 1\n",
      "        mean = -2.1521\n",
      "        std = 5.0221\n",
      "    parameter 2\n",
      "        mean = 0.86651\n",
      "        std = 4.8383\n",
      "    parameter 3\n",
      "        mean = -0.37597\n",
      "        std = 4.8343\n",
      "walker 2\n",
      "    parameter 0\n",
      "        mean = 5.102\n",
      "        std = 4.8572\n",
      "    parameter 1\n",
      "        mean = -2.357\n",
      "        std = 5.0311\n",
      "    parameter 2\n",
      "        mean = 0.89845\n",
      "        std = 4.923\n",
      "    parameter 3\n",
      "        mean = -0.19952\n",
      "        std = 4.8666\n",
      "walker 3\n",
      "    parameter 0\n",
      "        mean = 4.3664\n",
      "        std = 4.7056\n",
      "    parameter 1\n",
      "        mean = -2.951\n",
      "        std = 4.7121\n",
      "    parameter 2\n",
      "        mean = 0.23186\n",
      "        std = 4.7138\n",
      "    parameter 3\n",
      "        mean = -1.0132\n",
      "        std = 4.7216\n",
      "walker 4\n",
      "    parameter 0\n",
      "        mean = -3.4747\n",
      "        std = 4.6697\n",
      "    parameter 1\n",
      "        mean = 3.6328\n",
      "        std = 4.6724\n",
      "    parameter 2\n",
      "        mean = 0.40782\n",
      "        std = 4.6435\n",
      "    parameter 3\n",
      "        mean = 1.7627\n",
      "        std = 4.6373\n",
      "walker 5\n",
      "    parameter 0\n",
      "        mean = 17.576\n",
      "        std =   0.0\n",
      "REMOVING THIS WALKER\n",
      "walker 6\n",
      "    parameter 0\n",
      "        mean = -3.4382\n",
      "        std = 5.2093\n",
      "    parameter 1\n",
      "        mean = 3.8562\n",
      "        std = 5.2618\n",
      "    parameter 2\n",
      "        mean = 0.67212\n",
      "        std = 5.2807\n",
      "    parameter 3\n",
      "        mean = 1.9363\n",
      "        std = 5.2696\n",
      "walker 7\n",
      "    parameter 0\n",
      "        mean = 5.2152\n",
      "        std = 4.9794\n",
      "    parameter 1\n",
      "        mean = -2.0478\n",
      "        std = 5.0629\n",
      "    parameter 2\n",
      "        mean = 1.101\n",
      "        std = 5.0198\n",
      "    parameter 3\n",
      "        mean = -0.14815\n",
      "        std = 4.9878\n",
      "walker 8\n",
      "    parameter 0\n",
      "        mean = 4.9716\n",
      "        std = 4.7658\n",
      "    parameter 1\n",
      "        mean = -2.3631\n",
      "        std = 4.7709\n",
      "    parameter 2\n",
      "        mean = 0.83435\n",
      "        std = 4.7436\n",
      "    parameter 3\n",
      "        mean = -0.41488\n",
      "        std = 4.7422\n",
      "walker 9\n",
      "    parameter 0\n",
      "        mean = 5.5267\n",
      "        std = 4.9519\n",
      "    parameter 1\n",
      "        mean = -1.7477\n",
      "        std = 4.9675\n",
      "    parameter 2\n",
      "        mean = 1.3992\n",
      "        std = 4.9612\n",
      "    parameter 3\n",
      "        mean = 0.12983\n",
      "        std = 4.9473\n",
      "walker 10\n",
      "    parameter 0\n",
      "        mean = 4.8028\n",
      "        std = 5.2291\n",
      "    parameter 1\n",
      "        mean = -2.5507\n",
      "        std = 5.1993\n",
      "    parameter 2\n",
      "        mean = 0.63733\n",
      "        std = 5.169\n",
      "    parameter 3\n",
      "        mean = -0.58671\n",
      "        std = 5.1838\n",
      "walker 11\n",
      "    parameter 0\n",
      "        mean = -3.8365\n",
      "        std = 5.1921\n",
      "    parameter 1\n",
      "        mean = 3.4011\n",
      "        std = 5.2186\n",
      "    parameter 2\n",
      "        mean = 0.31912\n",
      "        std = 5.1611\n",
      "    parameter 3\n",
      "        mean = 1.6029\n",
      "        std = 5.1696\n",
      "walker 12\n",
      "    parameter 0\n",
      "        mean = 4.8561\n",
      "        std = 4.764\n",
      "    parameter 1\n",
      "        mean = -2.425\n",
      "        std = 4.8085\n",
      "    parameter 2\n",
      "        mean = 0.69349\n",
      "        std = 4.7898\n",
      "    parameter 3\n",
      "        mean = -0.58166\n",
      "        std = 4.765\n",
      "walker 13\n",
      "    parameter 0\n",
      "        mean = 4.669\n",
      "        std = 5.0838\n",
      "    parameter 1\n",
      "        mean = -2.6256\n",
      "        std = 5.0727\n",
      "    parameter 2\n",
      "        mean = 0.55757\n",
      "        std = 5.0149\n",
      "    parameter 3\n",
      "        mean = -0.76822\n",
      "        std = 5.0709\n",
      "walker 14\n",
      "    parameter 0\n",
      "        mean = -3.9732\n",
      "        std = 5.1041\n",
      "    parameter 1\n",
      "        mean = 3.5283\n",
      "        std = 5.0918\n",
      "    parameter 2\n",
      "        mean = 0.32356\n",
      "        std = 5.0939\n",
      "    parameter 3\n",
      "        mean = 1.504\n",
      "        std = 5.1062\n",
      "walker 15\n",
      "    parameter 0\n",
      "        mean = 4.7967\n",
      "        std = 4.7748\n",
      "    parameter 1\n",
      "        mean = -2.5359\n",
      "        std = 4.799\n",
      "    parameter 2\n",
      "        mean = 0.68915\n",
      "        std = 4.7898\n",
      "    parameter 3\n",
      "        mean = -0.57478\n",
      "        std = 4.7857\n",
      "walker 16\n",
      "    parameter 0\n",
      "        mean = 4.8504\n",
      "        std = 4.9402\n",
      "    parameter 1\n",
      "        mean = -2.4642\n",
      "        std = 4.9292\n",
      "    parameter 2\n",
      "        mean = 0.69757\n",
      "        std = 4.9255\n",
      "    parameter 3\n",
      "        mean = -0.54672\n",
      "        std = 4.9241\n",
      "walker 17\n",
      "    parameter 0\n",
      "        mean = 10.581\n",
      "        std =   0.0\n",
      "REMOVING THIS WALKER\n",
      "walker 18\n",
      "    parameter 0\n",
      "        mean = 5.1399\n",
      "        std = 4.8798\n",
      "    parameter 1\n",
      "        mean = -2.2042\n",
      "        std = 4.8834\n",
      "    parameter 2\n",
      "        mean = 0.96884\n",
      "        std = 4.8732\n",
      "    parameter 3\n",
      "        mean = -0.28087\n",
      "        std = 4.883\n",
      "walker 19\n",
      "    parameter 0\n",
      "        mean = -4.0195\n",
      "        std = 5.5216\n",
      "    parameter 1\n",
      "        mean = 3.2883\n",
      "        std = 5.4457\n",
      "    parameter 2\n",
      "        mean = 0.10067\n",
      "        std = 5.4637\n",
      "    parameter 3\n",
      "        mean = 1.3682\n",
      "        std = 5.4809\n",
      "walker 20\n",
      "    parameter 0\n",
      "        mean = 4.7276\n",
      "        std = 4.9952\n",
      "    parameter 1\n",
      "        mean = -2.5995\n",
      "        std = 4.9712\n",
      "    parameter 2\n",
      "        mean = 0.57554\n",
      "        std = 4.9854\n",
      "    parameter 3\n",
      "        mean = -0.66957\n",
      "        std = 4.9936\n",
      "walker 21\n",
      "    parameter 0\n",
      "        mean = 4.5552\n",
      "        std = 4.9305\n",
      "    parameter 1\n",
      "        mean = -2.6438\n",
      "        std = 4.9706\n",
      "    parameter 2\n",
      "        mean = 0.39343\n",
      "        std = 4.9503\n",
      "    parameter 3\n",
      "        mean = -0.89212\n",
      "        std = 4.9347\n",
      "walker 22\n",
      "    parameter 0\n",
      "        mean = 4.5089\n",
      "        std = 4.769\n",
      "    parameter 1\n",
      "        mean = -2.8065\n",
      "        std = 4.7577\n",
      "    parameter 2\n",
      "        mean = 0.39162\n",
      "        std = 4.746\n",
      "    parameter 3\n",
      "        mean = -0.88746\n",
      "        std = 4.7561\n",
      "walker 23\n",
      "    parameter 0\n",
      "        mean = 5.2515\n",
      "        std = 4.9358\n",
      "    parameter 1\n",
      "        mean = -2.0799\n",
      "        std = 4.9662\n",
      "    parameter 2\n",
      "        mean = 1.1373\n",
      "        std = 4.9675\n",
      "    parameter 3\n",
      "        mean = -0.15789\n",
      "        std = 4.9216\n",
      "walker 24\n",
      "    parameter 0\n",
      "        mean = 5.3021\n",
      "        std = 5.0372\n",
      "    parameter 1\n",
      "        mean = -2.05\n",
      "        std = 5.0523\n",
      "    parameter 2\n",
      "        mean = 1.1505\n",
      "        std = 4.9988\n",
      "    parameter 3\n",
      "        mean = -0.089942\n",
      "        std = 4.9972\n",
      "walker 25\n",
      "    parameter 0\n",
      "        mean = -9.9119\n",
      "        std = 3.5527e-15\n",
      "REMOVING THIS WALKER\n",
      "walker 26\n",
      "    parameter 0\n",
      "        mean = 5.1799\n",
      "        std = 4.9182\n",
      "    parameter 1\n",
      "        mean = -2.1327\n",
      "        std = 4.8797\n",
      "    parameter 2\n",
      "        mean = 1.0657\n",
      "        std = 4.8703\n",
      "    parameter 3\n",
      "        mean = -0.19968\n",
      "        std = 4.8977\n",
      "walker 27\n",
      "    parameter 0\n",
      "        mean = -3.087\n",
      "        std = 4.4902\n",
      "    parameter 1\n",
      "        mean = 4.2465\n",
      "        std = 4.4246\n",
      "    parameter 2\n",
      "        mean = 1.0311\n",
      "        std = 4.4392\n",
      "    parameter 3\n",
      "        mean = 2.2771\n",
      "        std = 4.4762\n",
      "walker 28\n",
      "    parameter 0\n",
      "        mean = 4.6704\n",
      "        std = 5.1213\n",
      "    parameter 1\n",
      "        mean = -2.5598\n",
      "        std = 5.1458\n",
      "    parameter 2\n",
      "        mean = 0.60617\n",
      "        std = 5.1616\n",
      "    parameter 3\n",
      "        mean = -0.74314\n",
      "        std = 5.1065\n",
      "walker 29\n",
      "    parameter 0\n",
      "        mean = 4.5968\n",
      "        std = 5.0424\n",
      "    parameter 1\n",
      "        mean = -2.7424\n",
      "        std = 5.0045\n",
      "    parameter 2\n",
      "        mean = 0.50364\n",
      "        std = 5.0147\n",
      "    parameter 3\n",
      "        mean = -0.76356\n",
      "        std = 5.0098\n",
      "walker 30\n",
      "    parameter 0\n",
      "        mean = 5.7004\n",
      "        std = 4.3223\n",
      "    parameter 1\n",
      "        mean = -3.5629\n",
      "        std = 5.5632\n",
      "    parameter 2\n",
      "        mean = 4.3291\n",
      "        std = 8.5348\n",
      "    parameter 3\n",
      "        mean = 2.3341\n",
      "        std = 7.0907\n",
      "walker 31\n",
      "    parameter 0\n",
      "        mean = 11.958\n",
      "        std = 1.7764e-15\n",
      "REMOVING THIS WALKER\n"
     ]
    }
   ],
   "source": [
    "walk_indices = []\n",
    "for iw,walk in enumerate(chain):\n",
    "    print(f'walker {iw}')\n",
    "    fail_cond = False\n",
    "    for ip in [0,1,2,3]:\n",
    "        print(f'    parameter {ip}')\n",
    "        print(f'        mean = {np.mean(walk[:,ip].flatten()):5.5}')\n",
    "        print(f'        std = {np.std(walk[:,ip].flatten()):5.5}')\n",
    "        fail_cond = fail_cond or (np.std(walk[:,ip].flatten())<0.000001)\n",
    "        if fail_cond:\n",
    "            print('REMOVING THIS WALKER')\n",
    "            break\n",
    "    if fail_cond:\n",
    "        continue\n",
    "    else:\n",
    "        walk_indices.append(iw)\n",
    "        \n",
    "warmup = 500\n",
    "chain_cleaned = np.array(chain[walk_indices,warmup:,:])\n"
   ]
  },
  {
   "cell_type": "code",
   "execution_count": 4,
   "metadata": {},
   "outputs": [
    {
     "data": {
      "text/plain": [
       "(28, 15500, 4)"
      ]
     },
     "execution_count": 4,
     "metadata": {},
     "output_type": "execute_result"
    }
   ],
   "source": [
    "chain_cleaned.shape"
   ]
  },
  {
   "cell_type": "code",
   "execution_count": 6,
   "metadata": {},
   "outputs": [],
   "source": [
    "X = chain_cleaned.reshape(-1,4)\n",
    "u,s,vh = np.linalg.svd(X[:10000,:])"
   ]
  },
  {
   "cell_type": "code",
   "execution_count": 7,
   "metadata": {},
   "outputs": [
    {
     "data": {
      "text/plain": [
       "array([[-0.65168151, -0.37483811, -0.48995882, -0.44130256],\n",
       "       [ 0.66807298, -0.66431219, -0.0893633 , -0.32308207],\n",
       "       [ 0.31109591,  0.64660951, -0.38669728, -0.57929326],\n",
       "       [ 0.17946878, -0.00904684, -0.77615705,  0.60439171]])"
      ]
     },
     "execution_count": 7,
     "metadata": {},
     "output_type": "execute_result"
    }
   ],
   "source": [
    "vh"
   ]
  },
  {
   "cell_type": "code",
   "execution_count": 8,
   "metadata": {
    "scrolled": false
   },
   "outputs": [
    {
     "data": {
      "image/png": "[encoded data removed]",
      "text/plain": [
       "<Figure size 720x504 with 1 Axes>"
      ]
     },
     "metadata": {
      "needs_background": "light"
     },
     "output_type": "display_data"
    },
    {
     "data": {
      "image/png": "[encoded data removed]",
      "text/plain": [
       "<Figure size 720x504 with 1 Axes>"
      ]
     },
     "metadata": {
      "needs_background": "light"
     },
     "output_type": "display_data"
    },
    {
     "data": {
      "image/png": "[encoded data removed]",
      "text/plain": [
       "<Figure size 720x504 with 1 Axes>"
      ]
     },
     "metadata": {
      "needs_background": "light"
     },
     "output_type": "display_data"
    },
    {
     "data": {
      "image/png": "[encoded data removed]",
      "text/plain": [
       "<Figure size 720x504 with 1 Axes>"
      ]
     },
     "metadata": {
      "needs_background": "light"
     },
     "output_type": "display_data"
    }
   ],
   "source": [
    "def make_hist(data,title_string,label):\n",
    "    y = data.flatten()\n",
    "    n_bins = 40\n",
    "    plt.figure(figsize=(10,7))\n",
    "    plt.hist(y,bins=n_bins,density=True)\n",
    "    y_mean = np.mean(y)\n",
    "    y_std = np.std(y)\n",
    "    plt.title(f\"{title_string}\\n{y_mean:5.3} +/- {y_std:5.3}\")\n",
    "    plt.xlabel(label)\n",
    "    plt.ylabel('Density (no units)')\n",
    "    plt.xticks(rotation=45)\n",
    "    plt.show()\n",
    "\n",
    "\n",
    "for i in range(4):\n",
    "    y = chain_cleaned[:,:,i].flatten()\n",
    "    make_hist(y,str(i),str(i))"
   ]
  },
  {
   "cell_type": "code",
   "execution_count": 10,
   "metadata": {
    "scrolled": false
   },
   "outputs": [
    {
     "data": {
      "image/png": "[encoded data removed]",
      "text/plain": [
       "<Figure size 720x504 with 1 Axes>"
      ]
     },
     "metadata": {
      "needs_background": "light"
     },
     "output_type": "display_data"
    },
    {
     "data": {
      "image/png": "[encoded data removed]",
      "text/plain": [
       "<Figure size 720x504 with 1 Axes>"
      ]
     },
     "metadata": {
      "needs_background": "light"
     },
     "output_type": "display_data"
    },
    {
     "data": {
      "image/png": "[encoded data removed]",
      "text/plain": [
       "<Figure size 720x504 with 1 Axes>"
      ]
     },
     "metadata": {
      "needs_background": "light"
     },
     "output_type": "display_data"
    },
    {
     "data": {
      "image/png": "[encoded data removed]",
      "text/plain": [
       "<Figure size 720x504 with 1 Axes>"
      ]
     },
     "metadata": {
      "needs_background": "light"
     },
     "output_type": "display_data"
    }
   ],
   "source": [
    "X = vh @ chain_cleaned.reshape(4,-1)\n",
    "for i in range(4):\n",
    "    y = X[i]\n",
    "    make_hist(y,str(i),str(i))"
   ]
  },
  {
   "cell_type": "code",
   "execution_count": null,
   "metadata": {},
   "outputs": [],
   "source": []
  }
 ],
 "metadata": {
  "kernelspec": {
   "display_name": "uq",
   "language": "python",
   "name": "uq"
  },
  "language_info": {
   "codemirror_mode": {
    "name": "ipython",
    "version": 3
   },
   "file_extension": ".py",
   "mimetype": "text/x-python",
   "name": "python",
   "nbconvert_exporter": "python",
   "pygments_lexer": "ipython3",
   "version": "3.7.10"
  }
 },
 "nbformat": 4,
 "nbformat_minor": 4
}
