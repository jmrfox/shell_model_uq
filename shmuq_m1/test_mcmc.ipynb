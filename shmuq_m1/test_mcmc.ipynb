{
 "cells": [
  {
   "cell_type": "code",
   "execution_count": 1,
   "metadata": {},
   "outputs": [],
   "source": [
    "# MCMC evaluation of M1 coupling constant distributions\n",
    "# Fox 2021\n",
    "#\n",
    "\n",
    "version = 2.0\n",
    "\n",
    "# v1 : gaussian prior\n",
    "# v2 : uniform prior\n",
    "\n",
    "#import pdb\n",
    "\n",
    "import numpy as np\n",
    "import os, sys\n",
    "from glob import glob\n",
    "from tqdm import tqdm\n",
    "from time import time\n",
    "import matplotlib\n",
    "import matplotlib.pyplot as plt\n",
    "font = {'family' : 'serif',\n",
    "        'serif'  : ['Palatino'],\n",
    "        'weight' : 'normal',\n",
    "        'size'   : 18}\n",
    "matplotlib.rc('font', **font)\n",
    "matplotlib.rc('text', usetex=True)\n",
    "import pandas as pd\n",
    "import pickle as pkl\n",
    "import emcee\n",
    "from multiprocessing import Pool\n",
    "from scipy.optimize import minimize, minimize_scalar\n",
    "\n",
    "# IGNORE DIVIDE BY ZERO WARNINGS\n",
    "np.seterr(divide='ignore')\n",
    "\n",
    "def optimal_n_bins(y,max_bins=100):\n",
    "    from scipy.stats import iqr\n",
    "    n_bins = int((max(y) - min(y))/(2*iqr(y)*len(y)**(-1/3)))\n",
    "    return min(n_bins,max_bins)\n",
    "\n",
    "#def Bweisskopf(l,A):\n",
    "#    # Weisskopf (single-particle) estimate in e^2 fm^2l\n",
    "#    return (1/(4*np.pi)) * (3/(3+l))**2 * (1.2*A**(1/3))**(2*l)\n",
    "\n",
    "def B_M1_Wu(B):\n",
    "    return B / 1.79"
   ]
  },
  {
   "cell_type": "code",
   "execution_count": 2,
   "metadata": {},
   "outputs": [
    {
     "name": "stdout",
     "output_type": "stream",
     "text": [
      "Loading data...\n"
     ]
    }
   ],
   "source": [
    "print('Loading data...')\n",
    "fn_data_for_model = 'm1_data_for_model_071121.pkl'\n",
    "with open(fn_data_for_model,'rb') as fh:\n",
    "    [nuc_dict_list, Mth_sp_usdb_list, Mth_sn_usdb_list, Mth_lp_usdb_list, Mth_ln_usdb_list, Mth_sp_vec_list, Mth_sn_vec_list, Mth_lp_vec_list, Mth_ln_vec_list, title_string_list, Bexp_Wu_list, Bexp_unc_Wu_list] = pkl.load(fh)"
   ]
  },
  {
   "cell_type": "code",
   "execution_count": 3,
   "metadata": {},
   "outputs": [],
   "source": [
    "A_vec = np.array([nuc_dict['A'] for nuc_dict in nuc_dict_list])\n",
    "Bexp_Wu_vec = np.array(Bexp_Wu_list)\n",
    "Bexp_unc_Wu_vec = np.array(Bexp_unc_Wu_list) \n",
    "\n",
    "Mth_sp_usdb_vec = np.array(Mth_sp_usdb_list)\n",
    "Mth_sn_usdb_vec = np.array(Mth_sn_usdb_list)\n",
    "Mth_lp_usdb_vec = np.array(Mth_lp_usdb_list)\n",
    "Mth_ln_usdb_vec = np.array(Mth_ln_usdb_list)\n",
    "Mth_sp_array = np.array(Mth_sp_vec_list)\n",
    "Mth_sn_array = np.array(Mth_sn_vec_list)\n",
    "Mth_lp_array = np.array(Mth_lp_vec_list)\n",
    "Mth_ln_array = np.array(Mth_ln_vec_list)\n",
    "n_transitions, n_samples = Mth_sp_array.shape\n",
    "g_sp_free = 5.5857\n",
    "g_lp_free = 1.\n",
    "g_sn_free = -3.8263\n",
    "g_ln_free = 0.\n",
    "g_vec_free = (g_sp_free, g_sn_free, g_lp_free, g_ln_free)"
   ]
  },
  {
   "cell_type": "code",
   "execution_count": 4,
   "metadata": {},
   "outputs": [],
   "source": [
    "def Bth_model(theta,Mth_sp,Mth_sn,Mth_lp,Mth_ln):\n",
    "    g_sp,g_sn,g_lp,g_ln = theta\n",
    "    Bth_vec = (g_sp * Mth_sp + g_sn * Mth_sn + g_lp * Mth_lp + g_ln * Mth_ln)**2\n",
    "    return Bth_vec\n",
    "\n",
    "def chi_squared(theta,sigmaB_apriori):\n",
    "    sqr_errors = (Bexp_Wu_vec - B_M1_Wu(Bth_model(theta, Mth_sp_usdb_vec, Mth_sn_usdb_vec, Mth_lp_usdb_vec, Mth_ln_usdb_vec)) )**2\n",
    "    B_unc_sqr_vec = np.array( [(sigmaB_apriori**2 + sigmaB**2) for sigmaB in Bexp_unc_Wu_vec])\n",
    "    R_sqr =  sqr_errors / B_unc_sqr_vec\n",
    "    return  np.sum(R_sqr)\n",
    "\n",
    "# def chi2(g_vec,B_th_unc):\n",
    "#     # in W.u.\n",
    "#     R2 = (B_exp - B_M1_Wu(B_th(g_vec)))**2 / (B_exp_unc**2 + B_th_unc**2)\n",
    "#     chi2 = np.sum(R2)\n",
    "#     return chi2\n",
    "\n",
    "def objective(sigmaB_apriori):\n",
    "    theta_0 = (g_sp_free, g_sn_free, g_lp_free, g_ln_free)\n",
    "    X2 = chi_squared(theta_0,sigmaB_apriori)\n",
    "    dof = n_transitions - 4\n",
    "    return (X2/dof - 1)**2"
   ]
  },
  {
   "cell_type": "code",
   "execution_count": 5,
   "metadata": {},
   "outputs": [
    {
     "name": "stderr",
     "output_type": "stream",
     "text": [
      "findfont: Font family ['serif'] not found. Falling back to DejaVu Sans.\n"
     ]
    },
    {
     "data": {
      "image/png": "[encoded data removed]",
      "text/plain": [
       "<Figure size 720x432 with 1 Axes>"
      ]
     },
     "metadata": {
      "needs_background": "light"
     },
     "output_type": "display_data"
    }
   ],
   "source": [
    "domain = np.linspace(0.2,2,400)\n",
    "y = [objective(x) for x in domain]\n",
    "y2 = [chi_squared(g_vec_free,x)/(n_transitions-4) for x in domain]\n",
    "\n",
    "plt.figure(figsize=(10,6))\n",
    "plt.plot(domain,y,label='Obj')\n",
    "plt.plot(domain,y2,label='chi2')\n",
    "plt.legend(loc = (1.02,0.2))\n",
    "plt.show()"
   ]
  },
  {
   "cell_type": "code",
   "execution_count": 6,
   "metadata": {},
   "outputs": [
    {
     "name": "stdout",
     "output_type": "stream",
     "text": [
      "Finding a priori B-value uncertainty...\n",
      "A priori B(M1) uncertainty = 0.32595078343047057\n"
     ]
    }
   ],
   "source": [
    "print('Finding a priori B-value uncertainty...')\n",
    "opt_result = minimize_scalar(objective)\n",
    "sigmaB_apriori = opt_result.x\n",
    "print(f'A priori B(M1) uncertainty = {sigmaB_apriori}')\n",
    "\n",
    "B_unc_sqr_vec = np.array( [sigmaB_apriori**2 + sigmaB**2 for sigmaB in Bexp_unc_Wu_vec] )\n",
    "def likelihood(theta, sample):\n",
    "    sqr_errors = (Bexp_Wu_vec - B_M1_Wu(Bth_model(theta, Mth_sp_array[:,sample], Mth_sn_array[:,sample], Mth_lp_array[:,sample], Mth_ln_array[:,sample] ) ) )**2\n",
    "    R_sqr_vec =  sqr_errors / B_unc_sqr_vec\n",
    "    chi_sq = np.sum(R_sqr_vec)\n",
    "    return  np.exp(- 0.5 * chi_sq ) "
   ]
  },
  {
   "cell_type": "code",
   "execution_count": 7,
   "metadata": {},
   "outputs": [],
   "source": [
    "g_sp_mean = g_sp_free\n",
    "g_sn_mean = g_sn_free\n",
    "g_lp_mean = g_lp_free\n",
    "g_ln_mean = g_ln_free\n",
    "g_sp_std = 5\n",
    "g_sn_std = 5\n",
    "g_lp_std = 5\n",
    "g_ln_std = 5\n",
    "low_bound = -20\n",
    "top_bound = 20\n",
    "\n",
    "g_means = [g_sp_mean , g_sn_mean, g_lp_mean , g_ln_mean ]\n",
    "g_stds = [g_sp_std  ,g_sn_std , g_lp_std  ,g_ln_std]\n",
    "\n",
    "def normal_pdf(x,m,s):\n",
    "    norm = (s * np.sqrt(2*np.pi))**-1\n",
    "    return norm * np.exp( - 0.5 * (x-m)**2 / s**2)\n",
    "    \n",
    "def prior_normal(theta):\n",
    "    p_g_sp = normal_pdf(theta[0],g_sp_mean,g_sp_std)\n",
    "    p_g_sn = normal_pdf(theta[1],g_sn_mean,g_sn_std)\n",
    "    p_g_lp = normal_pdf(theta[2],g_lp_mean,g_lp_std)\n",
    "    p_g_ln = normal_pdf(theta[3],g_ln_mean,g_ln_std)\n",
    "    return p_g_sp * p_g_sn * p_g_lp * p_g_ln\n",
    "    \n",
    "def prior_flat(theta):\n",
    "    if all([(t>low_bound) and (t<top_bound) for t in theta]): \n",
    "        return 1.0\n",
    "    else:\n",
    "        return 0.0\n",
    "\n",
    "def posterior(theta):\n",
    "#     x = prior_normal(theta) * prior_flat(theta) * np.sum(np.array( [likelihood(theta,k) for k in range(n_samples)] ))\n",
    "    x = prior_flat(theta) * np.sum(np.array( [likelihood(theta,k) for k in range(n_samples)] ))\n",
    "    return x\n",
    "\n",
    "def log_posterior(theta):\n",
    "    return np.log(posterior(theta))"
   ]
  },
  {
   "cell_type": "code",
   "execution_count": 8,
   "metadata": {},
   "outputs": [
    {
     "data": {
      "image/png": "[encoded data removed]",
      "text/plain": [
       "<Figure size 432x288 with 1 Axes>"
      ]
     },
     "metadata": {
      "needs_background": "light"
     },
     "output_type": "display_data"
    },
    {
     "data": {
      "image/png": "[encoded data removed]",
      "text/plain": [
       "<Figure size 432x288 with 1 Axes>"
      ]
     },
     "metadata": {
      "needs_background": "light"
     },
     "output_type": "display_data"
    },
    {
     "data": {
      "image/png": "[encoded data removed]",
      "text/plain": [
       "<Figure size 432x288 with 1 Axes>"
      ]
     },
     "metadata": {
      "needs_background": "light"
     },
     "output_type": "display_data"
    },
    {
     "data": {
      "image/png": "[encoded data removed]",
      "text/plain": [
       "<Figure size 432x288 with 1 Axes>"
      ]
     },
     "metadata": {
      "needs_background": "light"
     },
     "output_type": "display_data"
    }
   ],
   "source": [
    "for r in (0,1,2,3):\n",
    "#     print(g_means)\n",
    "#     print(g_stds)\n",
    "    domain = np.linspace(g_means[r] - g_stds[r],g_means[r] + g_stds[r], 100)\n",
    "    y=[]\n",
    "    for g in domain:\n",
    "        t = np.copy(g_means)\n",
    "        t[r] = g\n",
    "        y.append(posterior(t))\n",
    "    plt.plot(domain,y,'.')\n",
    "    plt.title(str(r))\n",
    "    plt.show()"
   ]
  },
  {
   "cell_type": "code",
   "execution_count": 1,
   "metadata": {},
   "outputs": [
    {
     "ename": "NameError",
     "evalue": "name 'np' is not defined",
     "output_type": "error",
     "traceback": [
      "\u001b[0;31m---------------------------------------------------------------------------\u001b[0m",
      "\u001b[0;31mNameError\u001b[0m                                 Traceback (most recent call last)",
      "\u001b[0;32m<ipython-input-1-d8395759a265>\u001b[0m in \u001b[0;36m<module>\u001b[0;34m\u001b[0m\n\u001b[1;32m     13\u001b[0m     \u001b[0;32mreturn\u001b[0m \u001b[0;34m[\u001b[0m\u001b[0mg_sp\u001b[0m\u001b[0;34m,\u001b[0m\u001b[0mg_sn\u001b[0m\u001b[0;34m,\u001b[0m\u001b[0mg_lp\u001b[0m\u001b[0;34m,\u001b[0m\u001b[0mg_ln\u001b[0m\u001b[0;34m]\u001b[0m\u001b[0;34m\u001b[0m\u001b[0;34m\u001b[0m\u001b[0m\n\u001b[1;32m     14\u001b[0m \u001b[0;34m\u001b[0m\u001b[0m\n\u001b[0;32m---> 15\u001b[0;31m \u001b[0mq0\u001b[0m \u001b[0;34m=\u001b[0m \u001b[0;34m[\u001b[0m\u001b[0mstarting_point\u001b[0m\u001b[0;34m(\u001b[0m\u001b[0;34m)\u001b[0m \u001b[0;32mfor\u001b[0m \u001b[0m_\u001b[0m \u001b[0;32min\u001b[0m \u001b[0mrange\u001b[0m\u001b[0;34m(\u001b[0m\u001b[0mn_walkers\u001b[0m\u001b[0;34m)\u001b[0m\u001b[0;34m]\u001b[0m\u001b[0;34m\u001b[0m\u001b[0;34m\u001b[0m\u001b[0m\n\u001b[0m\u001b[1;32m     16\u001b[0m \u001b[0;34m\u001b[0m\u001b[0m\n\u001b[1;32m     17\u001b[0m \u001b[0;31m#breakpoint()\u001b[0m\u001b[0;34m\u001b[0m\u001b[0;34m\u001b[0m\u001b[0;34m\u001b[0m\u001b[0m\n",
      "\u001b[0;32m<ipython-input-1-d8395759a265>\u001b[0m in \u001b[0;36m<listcomp>\u001b[0;34m(.0)\u001b[0m\n\u001b[1;32m     13\u001b[0m     \u001b[0;32mreturn\u001b[0m \u001b[0;34m[\u001b[0m\u001b[0mg_sp\u001b[0m\u001b[0;34m,\u001b[0m\u001b[0mg_sn\u001b[0m\u001b[0;34m,\u001b[0m\u001b[0mg_lp\u001b[0m\u001b[0;34m,\u001b[0m\u001b[0mg_ln\u001b[0m\u001b[0;34m]\u001b[0m\u001b[0;34m\u001b[0m\u001b[0;34m\u001b[0m\u001b[0m\n\u001b[1;32m     14\u001b[0m \u001b[0;34m\u001b[0m\u001b[0m\n\u001b[0;32m---> 15\u001b[0;31m \u001b[0mq0\u001b[0m \u001b[0;34m=\u001b[0m \u001b[0;34m[\u001b[0m\u001b[0mstarting_point\u001b[0m\u001b[0;34m(\u001b[0m\u001b[0;34m)\u001b[0m \u001b[0;32mfor\u001b[0m \u001b[0m_\u001b[0m \u001b[0;32min\u001b[0m \u001b[0mrange\u001b[0m\u001b[0;34m(\u001b[0m\u001b[0mn_walkers\u001b[0m\u001b[0;34m)\u001b[0m\u001b[0;34m]\u001b[0m\u001b[0;34m\u001b[0m\u001b[0;34m\u001b[0m\u001b[0m\n\u001b[0m\u001b[1;32m     16\u001b[0m \u001b[0;34m\u001b[0m\u001b[0m\n\u001b[1;32m     17\u001b[0m \u001b[0;31m#breakpoint()\u001b[0m\u001b[0;34m\u001b[0m\u001b[0;34m\u001b[0m\u001b[0;34m\u001b[0m\u001b[0m\n",
      "\u001b[0;32m<ipython-input-1-d8395759a265>\u001b[0m in \u001b[0;36mstarting_point\u001b[0;34m()\u001b[0m\n\u001b[1;32m      7\u001b[0m \u001b[0;34m\u001b[0m\u001b[0m\n\u001b[1;32m      8\u001b[0m \u001b[0;32mdef\u001b[0m \u001b[0mstarting_point\u001b[0m\u001b[0;34m(\u001b[0m\u001b[0;34m)\u001b[0m\u001b[0;34m:\u001b[0m\u001b[0;34m\u001b[0m\u001b[0;34m\u001b[0m\u001b[0m\n\u001b[0;32m----> 9\u001b[0;31m     \u001b[0mg_sp\u001b[0m \u001b[0;34m=\u001b[0m \u001b[0mnp\u001b[0m\u001b[0;34m.\u001b[0m\u001b[0mrandom\u001b[0m\u001b[0;34m.\u001b[0m\u001b[0muniform\u001b[0m\u001b[0;34m(\u001b[0m\u001b[0mlow_bound\u001b[0m\u001b[0;34m,\u001b[0m\u001b[0mtop_bound\u001b[0m\u001b[0;34m)\u001b[0m\u001b[0;34m\u001b[0m\u001b[0;34m\u001b[0m\u001b[0m\n\u001b[0m\u001b[1;32m     10\u001b[0m     \u001b[0mg_sn\u001b[0m \u001b[0;34m=\u001b[0m  \u001b[0mnp\u001b[0m\u001b[0;34m.\u001b[0m\u001b[0mrandom\u001b[0m\u001b[0;34m.\u001b[0m\u001b[0muniform\u001b[0m\u001b[0;34m(\u001b[0m\u001b[0mlow_bound\u001b[0m\u001b[0;34m,\u001b[0m\u001b[0mtop_bound\u001b[0m\u001b[0;34m)\u001b[0m\u001b[0;34m\u001b[0m\u001b[0;34m\u001b[0m\u001b[0m\n\u001b[1;32m     11\u001b[0m     \u001b[0mg_lp\u001b[0m \u001b[0;34m=\u001b[0m  \u001b[0mnp\u001b[0m\u001b[0;34m.\u001b[0m\u001b[0mrandom\u001b[0m\u001b[0;34m.\u001b[0m\u001b[0muniform\u001b[0m\u001b[0;34m(\u001b[0m\u001b[0mlow_bound\u001b[0m\u001b[0;34m,\u001b[0m\u001b[0mtop_bound\u001b[0m\u001b[0;34m)\u001b[0m\u001b[0;34m\u001b[0m\u001b[0;34m\u001b[0m\u001b[0m\n",
      "\u001b[0;31mNameError\u001b[0m: name 'np' is not defined"
     ]
    }
   ],
   "source": [
    "# _ = input('Continue?')\n",
    "\n",
    "n_walkers = 32\n",
    "n_steps = 1000\n",
    "n_params = 4\n",
    "use_pool = True\n",
    "\n",
    "def starting_point():\n",
    "    g_sp = np.random.uniform(low_bound,top_bound)\n",
    "    g_sn =  np.random.uniform(low_bound,top_bound)\n",
    "    g_lp =  np.random.uniform(low_bound,top_bound)\n",
    "    g_ln =  np.random.uniform(low_bound,top_bound)\n",
    "    return [g_sp,g_sn,g_lp,g_ln]\n",
    "\n",
    "q0 = [starting_point() for _ in range(n_walkers)]\n",
    "\n",
    "#breakpoint()\n",
    "\n",
    "print('Beginning MCMC...')\n",
    "print(f'N walkers: {n_walkers}')\n",
    "print(f'N steps: {n_steps}')\n",
    "\n",
    "ckpt_filename = f'checkpoint_v{version}.h5'\n",
    "backend = emcee.backends.HDFBackend(ckpt_filename)\n",
    "backend.reset(n_walkers, n_params)\n",
    "\n",
    "if use_pool:\n",
    "    with Pool() as pool:\n",
    "        sampler = emcee.EnsembleSampler(n_walkers, n_params, log_posterior, pool=pool, backend=backend)\n",
    "        start = time()\n",
    "        sampler.run_mcmc(q0, n_steps, progress=True,);\n",
    "        end = time()\n",
    "        multi_time = end - start\n",
    "        print(\"Multiprocessing took {0:.1f} seconds\".format(multi_time))\n",
    "else:\n",
    "    sampler = emcee.EnsembleSampler(n_walkers, n_params, log_posterior)\n",
    "    t1 = time()\n",
    "    sampler.run_mcmc(q0, n_steps, progress=True,);\n",
    "    t2 = time()\n",
    "    print(\"Processing took {0:.1f} seconds\".format(t2-t1))\n",
    "\n",
    "#mu_trace = sampler.chain[:, :, 0].flatten()\n",
    "#beta_trace = sampler.chain[:, :, 1].flatten()\n",
    "\n",
    "with open(f'traces_v{version}.pkl','wb') as fh:\n",
    "    pkl.dump(sampler.chain,fh)"
   ]
  },
  {
   "cell_type": "code",
   "execution_count": null,
   "metadata": {},
   "outputs": [],
   "source": []
  }
 ],
 "metadata": {
  "kernelspec": {
   "display_name": "uq",
   "language": "python",
   "name": "uq"
  },
  "language_info": {
   "codemirror_mode": {
    "name": "ipython",
    "version": 3
   },
   "file_extension": ".py",
   "mimetype": "text/x-python",
   "name": "python",
   "nbconvert_exporter": "python",
   "pygments_lexer": "ipython3",
   "version": "3.7.10"
  }
 },
 "nbformat": 4,
 "nbformat_minor": 4
}
