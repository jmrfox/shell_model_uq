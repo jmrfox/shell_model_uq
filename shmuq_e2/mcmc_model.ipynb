{
 "cells": [
  {
   "cell_type": "code",
   "execution_count": 43,
   "metadata": {},
   "outputs": [
    {
     "name": "stdout",
     "output_type": "stream",
     "text": [
      "Loading data...\n"
     ]
    }
   ],
   "source": [
    "# MCMC evaluation of E2 effective charge distributions\n",
    "# Fox 2022\n",
    "#\n",
    "# more general version of the MCMC scripts with version numbers\n",
    "# can set which variables to model in argument\n",
    "\n",
    "\n",
    "import numpy as np\n",
    "import os, sys\n",
    "from glob import glob\n",
    "from tqdm import tqdm\n",
    "from time import time\n",
    "import matplotlib\n",
    "import matplotlib.pyplot as plt\n",
    "font = {'family' : 'serif',\n",
    "        'serif'  : ['Palatino'],\n",
    "        'weight' : 'normal',\n",
    "        'size'   : 18}\n",
    "matplotlib.rc('font', **font)\n",
    "matplotlib.rc('text', usetex=True)\n",
    "import pandas as pd\n",
    "import pickle as pkl\n",
    "import emcee\n",
    "from multiprocessing import Pool\n",
    "from scipy.optimize import minimize, minimize_scalar\n",
    "\n",
    "    \n",
    "def optimal_n_bins(y,max_bins=100):\n",
    "    from scipy.stats import iqr\n",
    "    n_bins = int((max(y) - min(y))/(2*iqr(y)*len(y)**(-1/3)))\n",
    "    return min(n_bins,max_bins)\n",
    "\n",
    "def Bweisskopf(l,A):\n",
    "    # Weisskopf (single-particle) estimate in e^2 fm^2l\n",
    "    return (1/(4*np.pi)) * (3/(3+l))**2 * (1.2*A**(1/3))**(2*l)\n",
    "\n",
    "# define prior parameter values\n",
    "e_p_brown, e_n_brown = 1.36, 0.45\n",
    "mu_blomqvist, beta_blomqvist = 0.9, 0.7 \n",
    "\n",
    "prior_params = [e_p_brown,e_n_brown,mu_blomqvist,beta_blomqvist]\n",
    "\n",
    "def Bth_model_Wu(parameters,Mth_p_vec,Mth_n_vec,A_vec):\n",
    "    e_p, e_n, mu, beta = parameters\n",
    "    b_sqr_vec = mu*A_vec**(1/3) + beta\n",
    "    Bth_vec = b_sqr_vec**2 * ( e_p * np.array(Mth_p_vec) + e_n * np.array(Mth_n_vec))**2\n",
    "    single_particle_estimates = Bweisskopf(2,A_vec)\n",
    "    return Bth_vec / single_particle_estimates\n",
    "\n",
    "print('Loading data...')\n",
    "fn_data_for_model = 'e2_data_for_model_050222.pkl'\n",
    "with open(fn_data_for_model,'rb') as fh:\n",
    "    [nuc_dict_list, Mth_p_usdb_list,Mth_n_usdb_list,Mth_p_vec_list,Mth_n_vec_list,title_string_list, Bexp_e2fm4_list, Bexp_unc_e2fm4_list, Bexp_Wu_list, Bexp_unc_Wu_list] = pkl.load(fh)"
   ]
  },
  {
   "cell_type": "code",
   "execution_count": 44,
   "metadata": {},
   "outputs": [],
   "source": [
    "# nuc_dict_list"
   ]
  },
  {
   "cell_type": "code",
   "execution_count": 45,
   "metadata": {},
   "outputs": [],
   "source": [
    "# relative_err_threshold = 1.0\n",
    "relative_err_threshold = None"
   ]
  },
  {
   "cell_type": "code",
   "execution_count": 46,
   "metadata": {},
   "outputs": [],
   "source": [
    "# need to grab first element of each df row\n",
    "Bexp_Wu_list = [x.iloc[0] for x in Bexp_Wu_list]\n",
    "Bexp_unc_Wu_list = [x.iloc[0] for x in Bexp_unc_Wu_list]\n",
    "A_vec = np.array([nuc_dict['A'] for nuc_dict in nuc_dict_list])\n",
    "Bexp_Wu_vec = np.array(Bexp_Wu_list)\n",
    "Bexp_unc_Wu_vec = np.array(Bexp_unc_Wu_list)\n",
    "Mth_p_usdb_vec = np.array(Mth_p_usdb_list)\n",
    "Mth_n_usdb_vec = np.array(Mth_n_usdb_list)\n",
    "Mth_p_array = np.array(Mth_p_vec_list)\n",
    "Mth_n_array = np.array(Mth_n_vec_list)\n",
    "n_transitions, n_samples = Mth_p_array.shape\n",
    "\n",
    "# drop transitions with large relative error\n",
    "if relative_err_threshold is not None:\n",
    "    Bth_usdb_prior = Bth_model_Wu(prior_params, Mth_p_usdb_vec, Mth_n_usdb_vec,A_vec)\n",
    "    Berr_rel = (Bexp_Wu_vec - Bth_usdb_prior)/Bexp_Wu_vec\n",
    "    mask = np.abs(Berr_rel) < relative_err_threshold\n",
    "\n",
    "    A_vec = A_vec[mask]\n",
    "    Bexp_Wu_vec = Bexp_Wu_vec[mask]\n",
    "    Bexp_unc_Wu_vec = Bexp_unc_Wu_vec[mask]\n",
    "    Mth_p_usdb_vec = Mth_p_usdb_vec[mask]\n",
    "    Mth_n_usdb_vec = Mth_n_usdb_vec[mask]\n",
    "    Mth_p_array = Mth_p_array[mask]\n",
    "    Mth_n_array = Mth_n_array[mask]\n",
    "    n_transitions, n_samples = Mth_p_array.shape\n",
    "\n",
    "def chi_squared(parameters,sigmaB_apriori):\n",
    "    sqr_errors = (Bexp_Wu_vec - Bth_model_Wu(parameters,Mth_p_usdb_vec,Mth_n_usdb_vec,A_vec))**2\n",
    "    B_unc_sqr_vec = np.array( [(sigmaB_apriori**2 + sigmaB**2) for sigmaB in Bexp_unc_Wu_vec])\n",
    "    R_sqr =  sqr_errors / B_unc_sqr_vec\n",
    "    return  np.sum(R_sqr)\n",
    "\n",
    "def objective(sigmaB_apriori):\n",
    "    X2 = chi_squared(prior_params,sigmaB_apriori)\n",
    "    dof = n_transitions - 66\n",
    "    return (X2/dof - 1)**2"
   ]
  },
  {
   "cell_type": "code",
   "execution_count": 47,
   "metadata": {},
   "outputs": [
    {
     "name": "stdout",
     "output_type": "stream",
     "text": [
      "Finding a priori B-value uncertainty...\n",
      "A priori B(E2) uncertainty = 5.399283009004633\n"
     ]
    }
   ],
   "source": [
    "print('Finding a priori B-value uncertainty...')\n",
    "opt_result = minimize_scalar(objective)\n",
    "sigmaB_apriori = opt_result.x\n",
    "print(f'A priori B(E2) uncertainty = {sigmaB_apriori}')\n",
    "sigma_B_sqr_vec = [(sigmaB_apriori**2 + sigmaB**2) for sigmaB in Bexp_unc_Wu_vec]\n",
    "\n",
    "B_unc_sqr_vec = np.array( [sigmaB_apriori**2 + sigmaB**2 for sigmaB in Bexp_unc_Wu_vec] )\n",
    "mu_std = 1\n",
    "beta_std = 1\n",
    "ep_bounds = (1.,2.)\n",
    "en_bounds = (0.,1.)\n",
    "\n",
    "def ep_log_prior(ep):\n",
    "    if ep>ep_bounds[0] and ep<ep_bounds[1]:\n",
    "        return 0.\n",
    "    else:\n",
    "        return -np.infty\n",
    "    \n",
    "def en_log_prior(en):\n",
    "    if en>en_bounds[0] and en<en_bounds[1]:\n",
    "        return 0.\n",
    "    else:\n",
    "        return -np.infty\n",
    "    \n",
    "def normal_pdf(x,m,s):\n",
    "    norm = (s * np.sqrt(2*np.pi))**-1\n",
    "    return norm * np.exp( - 0.5 * ((x-m)/s)**2)\n",
    "\n",
    "def log_normal_pdf(x,m,s):\n",
    "    norm = (s * np.sqrt(2*np.pi))**-1\n",
    "    return np.log(norm) - 0.5 * ((x-m)/s)**2\n",
    "\n",
    "def mu_log_prior(mu):\n",
    "    return log_normal_pdf(mu,mu_blomqvist,mu_std)\n",
    "    \n",
    "def beta_log_prior(beta):\n",
    "    return log_normal_pdf(beta,beta_blomqvist,beta_std)"
   ]
  },
  {
   "cell_type": "code",
   "execution_count": 48,
   "metadata": {},
   "outputs": [],
   "source": [
    "# variables = 'eff_charges'\n",
    "variables = 'osc_length_params'"
   ]
  },
  {
   "cell_type": "code",
   "execution_count": 49,
   "metadata": {},
   "outputs": [],
   "source": [
    "Bexp_tiled = np.tile(Bexp_Wu_vec.reshape(n_transitions,1),n_samples)\n",
    "B_unc_sqr_tiled = np.tile(B_unc_sqr_vec.reshape(n_transitions,1),n_samples)\n",
    "single_particle_estimates = Bweisskopf(2,A_vec)\n",
    "spe_tiled = np.tile(single_particle_estimates.reshape(n_transitions,1),n_samples)\n",
    "\n",
    "if variables == 'eff_charges':\n",
    "    def log_prior(theta):\n",
    "        return ep_log_prior(theta[0]) + en_log_prior(theta[1])\n",
    "        \n",
    "    # redefine likelihood to be faster\n",
    "    b4_vec = (mu_blomqvist*A_vec**(1/3) + beta_blomqvist)**2\n",
    "    b4_tiled = np.tile(b4_vec.reshape(n_transitions,1),n_samples)\n",
    "    def log_posterior(theta):\n",
    "        # sum over data, average over samples\n",
    "        sqr_error_tiled = ( Bexp_tiled - (b4_tiled/spe_tiled)*(theta[0]*Mth_p_array + theta[1]*Mth_n_array)**2 )**2\n",
    "        log_likelihood =  - 0.5 * np.sum(sqr_error_tiled / B_unc_sqr_tiled) / n_samples\n",
    "        return log_prior(theta) + log_likelihood\n",
    "    \n",
    "    def starting_point():\n",
    "        ep = np.random.rand() + 1\n",
    "        en = np.random.rand()\n",
    "        return [ep,en]\n",
    "    \n",
    "elif variables == 'osc_length_params':\n",
    "    def log_prior(theta):\n",
    "        return mu_log_prior(theta[0]) + beta_log_prior(theta[1])\n",
    "    \n",
    "    Bth_array = (e_p_brown*Mth_p_array + e_n_brown*Mth_n_array)**2\n",
    "    \n",
    "    def log_posterior(theta):\n",
    "        # sum over data, average over samples\n",
    "        b4_vec = (theta[0]*A_vec**(1/3) + theta[1])**2\n",
    "        b4_tiled = np.tile(b4_vec.reshape(n_transitions,1),n_samples)\n",
    "        sqr_error_tiled = ( Bexp_tiled - (b4_tiled/spe_tiled)*Bth_array )**2\n",
    "        log_likelihood =  - 0.5 * np.sum(sqr_error_tiled / B_unc_sqr_tiled) / n_samples\n",
    "        return log_prior(theta) + log_likelihood\n",
    "    \n",
    "    def starting_point():\n",
    "        [mu,beta] = [-1.,-1.]\n",
    "        while mu<0. and beta<0.:\n",
    "            mu = mu_std*np.random.normal() + mu_blomqvist\n",
    "            beta = beta_std*np.random.normal() + beta_blomqvist\n",
    "        return [mu,beta]"
   ]
  },
  {
   "cell_type": "code",
   "execution_count": 50,
   "metadata": {},
   "outputs": [
    {
     "data": {
      "text/plain": [
       "      fun: 44.96387477256713\n",
       " hess_inv: array([[ 0.08175888, -0.2367663 ],\n",
       "       [-0.2367663 ,  0.69260715]])\n",
       "      jac: array([-4.76837158e-07, -1.43051147e-06])\n",
       "  message: 'Optimization terminated successfully.'\n",
       "     nfev: 21\n",
       "      nit: 5\n",
       "     njev: 7\n",
       "   status: 0\n",
       "  success: True\n",
       "        x: array([0.70002452, 1.3330998 ])"
      ]
     },
     "execution_count": 50,
     "metadata": {},
     "output_type": "execute_result"
    }
   ],
   "source": [
    "def objective(theta):\n",
    "    return -log_posterior(theta)\n",
    "\n",
    "# opt = minimize(objective,x0=[1.5,0.5])\n",
    "opt = minimize(objective,x0=[0.9,0.7])\n",
    "opt"
   ]
  },
  {
   "cell_type": "code",
   "execution_count": 51,
   "metadata": {},
   "outputs": [
    {
     "data": {
      "text/plain": [
       "153"
      ]
     },
     "execution_count": 51,
     "metadata": {},
     "output_type": "execute_result"
    }
   ],
   "source": [
    "n_transitions"
   ]
  },
  {
   "cell_type": "code",
   "execution_count": 52,
   "metadata": {},
   "outputs": [
    {
     "name": "stdout",
     "output_type": "stream",
     "text": [
      "Beginning MCMC...\n",
      "N walkers: 16\n",
      "N steps: 1000\n"
     ]
    },
    {
     "name": "stderr",
     "output_type": "stream",
     "text": [
      "100%|██████████| 1000/1000 [02:01<00:00,  8.24it/s]\n"
     ]
    },
    {
     "name": "stdout",
     "output_type": "stream",
     "text": [
      "Multiprocessing took 121.4 seconds\n"
     ]
    }
   ],
   "source": [
    "n_walkers = 16\n",
    "n_steps = 1000\n",
    "n_params = 2\n",
    "use_pool = True\n",
    "\n",
    "q0 = [starting_point() for _ in range(n_walkers)]\n",
    "\n",
    "print('Beginning MCMC...')\n",
    "print(f'N walkers: {n_walkers}')\n",
    "print(f'N steps: {n_steps}')\n",
    "\n",
    "\n",
    "with Pool() as pool:\n",
    "    sampler = emcee.EnsembleSampler(n_walkers, n_params, log_posterior, pool=pool)\n",
    "    start = time()\n",
    "    sampler.run_mcmc(q0, n_steps, progress=True,);\n",
    "    end = time()\n",
    "    multi_time = end - start\n",
    "    print(\"Multiprocessing took {0:.1f} seconds\".format(multi_time))\n"
   ]
  },
  {
   "cell_type": "code",
   "execution_count": 53,
   "metadata": {},
   "outputs": [],
   "source": [
    "def optimal_n_bins(y,max_bins=100):\n",
    "    from scipy.stats import iqr\n",
    "    n_bins = int((max(y) - min(y))/(2*iqr(y)*len(y)**(-1/3)))\n",
    "    return min(n_bins,max_bins)\n",
    "\n",
    "def make_hist(data,title_string,label):\n",
    "    y = data.flatten()\n",
    "    n_bins = 40\n",
    "    plt.figure(figsize=(10,7))\n",
    "    plt.hist(y,bins=n_bins,density=True)\n",
    "    y_mean = np.mean(y)\n",
    "    y_std = np.std(y)\n",
    "    plt.title(f\"{title_string}\\n{y_mean:5.3} +/- {y_std:5.3}\")\n",
    "    plt.xlabel(label)\n",
    "    plt.ylabel('Density (no units)')\n",
    "    plt.xticks(rotation=45)\n",
    "    plt.show()"
   ]
  },
  {
   "cell_type": "code",
   "execution_count": 54,
   "metadata": {},
   "outputs": [
    {
     "data": {
      "image/png": "[encoded data removed]",
      "text/plain": [
       "<Figure size 720x504 with 1 Axes>"
      ]
     },
     "metadata": {
      "needs_background": "light"
     },
     "output_type": "display_data"
    },
    {
     "data": {
      "image/png": "[encoded data removed]",
      "text/plain": [
       "<Figure size 720x504 with 1 Axes>"
      ]
     },
     "metadata": {
      "needs_background": "light"
     },
     "output_type": "display_data"
    }
   ],
   "source": [
    "chain = sampler.chain\n",
    "warmup = 400\n",
    "theta_1_trace = chain[:,warmup:,0].flatten()\n",
    "theta_2_trace = chain[:,warmup:,1].flatten()\n",
    "make_hist(theta_1_trace,r'$\\theta_1$',r'$\\theta_1$')\n",
    "make_hist(theta_2_trace,r'$\\theta_2$',r'$\\theta_2$')"
   ]
  },
  {
   "cell_type": "code",
   "execution_count": null,
   "metadata": {},
   "outputs": [],
   "source": []
  }
 ],
 "metadata": {
  "kernelspec": {
   "display_name": "uq",
   "language": "python",
   "name": "uq"
  },
  "language_info": {
   "codemirror_mode": {
    "name": "ipython",
    "version": 3
   },
   "file_extension": ".py",
   "mimetype": "text/x-python",
   "name": "python",
   "nbconvert_exporter": "python",
   "pygments_lexer": "ipython3",
   "version": "3.7.10"
  }
 },
 "nbformat": 4,
 "nbformat_minor": 4
}
