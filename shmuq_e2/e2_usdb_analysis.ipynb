{
 "cells": [
  {
   "cell_type": "markdown",
   "metadata": {},
   "source": [
    "# B(E2) analysis\n",
    "\n",
    "Collect proton/neutron E2 matrix elements from runs using random samples of USDB\n",
    "\n",
    "$ B(E2) = b^4 \\left[ e_p M_p + e_n M_n \\right]^2 $\n",
    "\n",
    "Want to compute (approx) posterior distributions for oscillator length $b$, and effective charges $e_p$ and $e_n$ .\n",
    "\n",
    "Prior assumptions:\n",
    "\n",
    "$b^2 = 0.9 A^{1/3} + 0.7$\n",
    "\n",
    "$P(e_p) \\sim U[1,2]$\n",
    "\n",
    "$P(e_n) \\sim U[0,1]$\n"
   ]
  },
  {
   "cell_type": "code",
   "execution_count": 1,
   "metadata": {},
   "outputs": [],
   "source": [
    "import numpy as np\n",
    "\n",
    "import os\n",
    "from glob import glob\n",
    "from tqdm import tqdm\n",
    "from time import time\n",
    "\n",
    "def optimal_n_bins(y,max_bins=100):\n",
    "    from scipy.stats import iqr\n",
    "    n_bins = int((max(y) - min(y))/(2*iqr(y)*len(y)**(-1/3)))\n",
    "    return min(n_bins,max_bins)\n",
    "\n",
    "import matplotlib\n",
    "import matplotlib.pyplot as plt\n",
    "font = {'family' : 'serif',\n",
    "        'serif'  : ['Palatino'],\n",
    "        'weight' : 'normal',\n",
    "        'size'   : 18}\n",
    "\n",
    "matplotlib.rc('font', **font)\n",
    "matplotlib.rc('text', usetex=True)\n",
    "\n",
    "import pandas as pd\n",
    "import pickle as pkl\n",
    "\n",
    "import sys\n",
    "class HiddenPrints:\n",
    "    def __enter__(self):\n",
    "        self._original_stdout = sys.stdout\n",
    "        sys.stdout = open(os.devnull, 'w')\n",
    "\n",
    "    def __exit__(self, exc_type, exc_val, exc_tb):\n",
    "        sys.stdout.close()\n",
    "        sys.stdout = self._original_stdout"
   ]
  },
  {
   "cell_type": "code",
   "execution_count": 2,
   "metadata": {},
   "outputs": [],
   "source": [
    "from scipy.special import factorial2\n",
    "\n",
    "# hbarc = 197.3 #MeV fm\n",
    "# hbar = 6.582E-22 #MeV s\n",
    "# alpha = 1/137\n",
    "# mP = 938.272 # Mev/c^2\n",
    "# #muN = 3.152E-14 # MeV / T\n",
    "# muN2 =  alpha*hbarc**3*2*mP**-2 # nuclear magneton squared\n",
    "\n",
    "hbarc = 197300 #keV fm\n",
    "hbar = 6.582E-19 #keV s\n",
    "alpha = 1/137\n",
    "mP = 938272 # kev/c^2\n",
    "#muN = 3.152E-14 # MeV / T\n",
    "muN2 =  alpha*hbarc**3*2*mP**-2 # nuclear magneton squared\n",
    "\n",
    "\n",
    "def Thalf_width(E): #converts energy width (MeV) to Thalf in seconds\n",
    "    return hbar * np.log(2)/(E/1000)\n",
    "\n",
    "def Thalf_width_kev(E):\n",
    "    if E==0.:\n",
    "        return None\n",
    "    return Thalf_width(E)\n",
    "\n",
    "def times_so_far(ls):\n",
    "#     counts occurences of items\n",
    "#     x = [0,2,1,0,4,2,2,1,0]\n",
    "#     times_so_far(x) = [1, 1, 1, 2, 1, 2, 3, 2, 3]\n",
    "    out = [0]*len(ls)\n",
    "    for i in range(len(ls)):\n",
    "        out[i] = ls[:i+1].count(ls[i])\n",
    "    return out\n",
    "\n",
    "def j_to_twoj(x):\n",
    "    if '/2' in x:\n",
    "        return int(x.strip('/2'))\n",
    "    else:\n",
    "        return 2*int(x.strip('()'))\n",
    "    \n",
    "def thalf_units_to_sec(units,value):\n",
    "    m=0\n",
    "    if units=='PS':\n",
    "        m = 10**-12\n",
    "    elif units=='NS':\n",
    "        m = 10**-9\n",
    "    elif units=='FS':\n",
    "        m = 10**-15\n",
    "    elif units=='US':\n",
    "        m = 10**-6\n",
    "    elif units=='AS':\n",
    "        m = 10**-18\n",
    "    elif units=='KEV':\n",
    "        pass\n",
    "    if m==0:\n",
    "        return Thalf_width_kev(value)\n",
    "    else:\n",
    "        return m*value\n",
    "    \n",
    "def my_float(x):\n",
    "    try:\n",
    "        return float(x)\n",
    "    except:\n",
    "        return 0.0\n",
    "    \n",
    "def fLambda(l):\n",
    "    return 8*np.pi*(l+1)/(l*(factorial2(2*l+1)**2))\n",
    "\n",
    "def BEl(l,Egamma,Thalf,I,units):\n",
    "    if units == 1: # [B] = fm^2l\n",
    "        B = (I/100)*(np.log(2)/Thalf)*fLambda(l)**-1*hbar*hbarc**(2*l+1)*(Egamma**(-2*l-1))\n",
    "    elif units == 2: # [B] = e^2 fm^2l\n",
    "        B = (I/100)*(np.log(2)/Thalf)*fLambda(l)**-1*hbar*hbarc**(2*l+1)*(Egamma**(-2*l-1))\n",
    "        B = B/(alpha*hbarc)\n",
    "    elif units == 3: # [B] = e^2 b^l\n",
    "        B = (I/100)*(np.log(2)/Thalf)*fLambda(l)**-1*hbar*hbarc**(2*l+1)*(Egamma**(-2*l-1))\n",
    "        B = 10**(-2*l)*B/(alpha*hbarc)\n",
    "    return B\n",
    "\n",
    "def BE2_e2fm4(Egamma,Thalf,I):\n",
    "    # in e^2 fm^4\n",
    "    return BEl(2,Egamma,Thalf,I,2)\n",
    "\n",
    "# def BE2_Wu(A,Egamma,Thalf,I):\n",
    "#     lamW = 7.3E7*A**(4/3)*Egamma**5;\n",
    "#     lamExp = (np.log(2)/(Thalf*10**-15))*(I/100);   #Thalf in fs\n",
    "#     return lamExp/lamW\n",
    "\n",
    "def Bweisskopf(l,A):\n",
    "    # Weisskopf (single-particle) estimate in e^2 fm^2l\n",
    "    return (1/(4*np.pi)) * (3/(3+l))**2 * (1.2*A**(1/3))**(2*l)\n",
    "\n",
    "def BEl_in_Wu(l,Egamma,Thalf,I,A):\n",
    "    return BEl(l,Egamma,Thalf,I,2) / Bweisskopf(l,A)\n",
    "    "
   ]
  },
  {
   "cell_type": "code",
   "execution_count": 3,
   "metadata": {},
   "outputs": [],
   "source": [
    "path_to_input_csv = 'sd_E2_processed_v2.csv'\n",
    "path_to_usdb_csv = 'sd_E2_usdb_complete.csv'\n",
    "df_input = pd.read_csv(path_to_input_csv)\n",
    "df_usdb = pd.read_csv(path_to_usdb_csv)"
   ]
  },
  {
   "cell_type": "code",
   "execution_count": 4,
   "metadata": {},
   "outputs": [],
   "source": [
    "df_input = df_input.rename(columns={'Unnamed: 0':'GlobalIndex'})\n",
    "df_usdb = df_usdb.rename(columns={'Unnamed: 0':'GlobalIndex'})\n",
    "# the key GlobalIndex comes from the original transition data\n",
    "\n",
    "def drop_unnamed_columns(x):\n",
    "    return x.loc[:, ~x.columns.str.contains('^Unnamed')]\n",
    "\n",
    "df_input = drop_unnamed_columns(df_input)\n",
    "df_usdb = drop_unnamed_columns(df_usdb)"
   ]
  },
  {
   "cell_type": "code",
   "execution_count": 5,
   "metadata": {},
   "outputs": [],
   "source": [
    "usdbmil = np.loadtxt('/p/lustre2/fox39/shmuq/usdb/shmuq_e2/usdbmil.vec',skiprows=1)\n",
    "usdb = np.loadtxt('/p/lustre2/fox39/shmuq/usdb/shmuq_e2/usdb.vec',skiprows=1)\n",
    "n_params = len(usdb)"
   ]
  },
  {
   "cell_type": "code",
   "execution_count": 6,
   "metadata": {},
   "outputs": [
    {
     "name": "stdout",
     "output_type": "stream",
     "text": [
      "# transitions = 236\n"
     ]
    }
   ],
   "source": [
    "n_transitions = len(df_usdb)\n",
    "print('# transitions =', n_transitions)"
   ]
  },
  {
   "cell_type": "code",
   "execution_count": 7,
   "metadata": {},
   "outputs": [
    {
     "data": {
      "text/plain": [
       "Index(['GlobalIndex', 'A', 'Element', 'Z', 'N', 'Energy (keV)',\n",
       "       'Energy Unc (keV)', 'Ji', 'Thalf', 'E_gamma (keV)', 'E_gamma Unc (keV)',\n",
       "       'I_gamma', 'I_gamma Unc', 'Mult', 'Mult Ratio', 'Mult Ratio Unc',\n",
       "       'Conv Coef', 'Conv Coef Unc', 'B_exp (W.u.)', 'B_exp Unc (W.u.)',\n",
       "       'twoJi', 'Thalf Value', 'Thalf Units', 'Thalf Unc', 'Thalf (sec)',\n",
       "       'Thalf Unc (sec)', 'B_exp (e^2fm^4)', 'B_exp Unc (e^2fm^4)', 'Nucleus',\n",
       "       'Jf', 'twoJf', 'ni', 'nf', 'Include', 'Mth_p', 'Mth_n'],\n",
       "      dtype='object')"
      ]
     },
     "execution_count": 7,
     "metadata": {},
     "output_type": "execute_result"
    }
   ],
   "source": [
    "df_usdb.keys()"
   ]
  },
  {
   "cell_type": "code",
   "execution_count": 8,
   "metadata": {},
   "outputs": [
    {
     "data": {
      "image/png": "[encoded data removed]",
      "text/plain": [
       "<Figure size 432x288 with 1 Axes>"
      ]
     },
     "metadata": {
      "needs_background": "light"
     },
     "output_type": "display_data"
    }
   ],
   "source": [
    "y = np.log10(df_usdb['B_exp (W.u.)'])\n",
    "plt.hist(y, bins=optimal_n_bins(y), density=True)\n",
    "plt.title('log Exp. B(E2) (W.u.)')\n",
    "plt.show()"
   ]
  },
  {
   "cell_type": "code",
   "execution_count": 9,
   "metadata": {},
   "outputs": [
    {
     "name": "stdout",
     "output_type": "stream",
     "text": [
      "Out of 236 transitions, 53 are smaller than the Weisskopf estimate\n"
     ]
    }
   ],
   "source": [
    "print(f'Out of {len(y)} transitions, {len(y[y<0])} are smaller than the Weisskopf estimate')"
   ]
  },
  {
   "cell_type": "markdown",
   "metadata": {},
   "source": [
    "### Excluding transitions"
   ]
  },
  {
   "cell_type": "code",
   "execution_count": 10,
   "metadata": {},
   "outputs": [
    {
     "name": "stdout",
     "output_type": "stream",
     "text": [
      "Number of transitions kept: 188\n"
     ]
    }
   ],
   "source": [
    "drop_nuc_list = ['17O','18O','17F','38Ar','38K']\n",
    "for nuc in drop_nuc_list:\n",
    "    df_usdb.at[df_usdb['Nucleus']==nuc,'Include'] = False\n",
    "\n",
    "df_usdb.at[df_usdb['B_exp (W.u.)']<0.1,'Include'] = False\n",
    "df_usdb.at[df_usdb['B_exp (W.u.)']>150.0,'Include'] = False\n",
    "df_usdb.at[df_usdb['Mth_p'] == 0.0,'Include'] = False\n",
    "df_usdb.at[df_usdb['Mth_n'] == 0.0,'Include'] = False\n",
    "\n",
    "df_usdb = df_usdb[df_usdb['Include']==True]\n",
    "n_transitions = len(df_usdb)\n",
    "print(f'Number of transitions kept: {n_transitions}')"
   ]
  },
  {
   "cell_type": "code",
   "execution_count": 11,
   "metadata": {},
   "outputs": [],
   "source": [
    "# b_sqr_vec = lambda A : 0.9*A**(1/3) + 0.7\n",
    "b_sqr_vec = lambda A : 0.48*A**(1/3) + 1.91\n",
    "single_particle_estimate = lambda A : Bweisskopf(2,A)\n",
    "\n",
    "def Bth_model_v1(theta,A,Mth_p_vec,Mth_n_vec):\n",
    "    e_p,e_n = theta\n",
    "    Bth_vec = b_sqr_vec(A)**2 * ( e_p * np.array(Mth_p_vec) + e_n * np.array(Mth_n_vec))**2\n",
    "    return Bth_vec\n",
    "\n",
    "def Bth_model_Wu_v1(theta,A,Mth_p_vec,Mth_n_vec):\n",
    "    return Bth_model_v1(theta,A,Mth_p_vec,Mth_n_vec) / single_particle_estimate(A)"
   ]
  },
  {
   "cell_type": "code",
   "execution_count": 12,
   "metadata": {
    "scrolled": false
   },
   "outputs": [
    {
     "data": {
      "image/png": "[encoded data removed]",
      "text/plain": [
       "<Figure size 720x432 with 1 Axes>"
      ]
     },
     "metadata": {
      "needs_background": "light"
     },
     "output_type": "display_data"
    },
    {
     "data": {
      "image/png": "[encoded data removed]",
      "text/plain": [
       "<Figure size 720x432 with 1 Axes>"
      ]
     },
     "metadata": {
      "needs_background": "light"
     },
     "output_type": "display_data"
    },
    {
     "data": {
      "image/png": "[encoded data removed]",
      "text/plain": [
       "<Figure size 720x432 with 1 Axes>"
      ]
     },
     "metadata": {
      "needs_background": "light"
     },
     "output_type": "display_data"
    },
    {
     "name": "stdout",
     "output_type": "stream",
     "text": [
      "Error mean = 1.350080007357983\n",
      "Error std = 5.459757251347516\n"
     ]
    },
    {
     "data": {
      "image/png": "[encoded data removed]",
      "text/plain": [
       "<Figure size 720x432 with 1 Axes>"
      ]
     },
     "metadata": {
      "needs_background": "light"
     },
     "output_type": "display_data"
    },
    {
     "name": "stdout",
     "output_type": "stream",
     "text": [
      "Relative error mean = -0.05837990223694759\n",
      "Relative error std = 0.9718775656278246\n"
     ]
    }
   ],
   "source": [
    "A_vec = np.array(df_usdb['A'])\n",
    "Bexp_Wu_vec = np.array(df_usdb['B_exp (W.u.)'])\n",
    "Bexp_unc_Wu_vec = np.array(df_usdb['B_exp Unc (W.u.)'])\n",
    "Mth_p_usdb_vec = np.array(df_usdb['Mth_p'])\n",
    "Mth_n_usdb_vec = np.array(df_usdb['Mth_n'])\n",
    "Bth_Wu_vec = Bth_model_Wu_v1((1.41,0.41),A_vec,Mth_p_usdb_vec,Mth_n_usdb_vec) \n",
    "\n",
    "fig = plt.figure(figsize=(10,6))\n",
    "plt.hist(Bexp_Wu_vec,bins=20)\n",
    "plt.title(r'Experimental $B(E2)$ $(W.u.)$ ')\n",
    "plt.show()\n",
    "\n",
    "fig = plt.figure(figsize=(10,6))\n",
    "plt.hist(Bth_Wu_vec, bins=20) \n",
    "plt.title(r'Theory $B(E2)$ $(W.u.)$ ')\n",
    "plt.show()\n",
    "\n",
    "Berr_Wu_vec = Bexp_Wu_vec - Bth_Wu_vec\n",
    "fig = plt.figure(figsize=(10,6))\n",
    "plt.hist(Berr_Wu_vec,bins=20)\n",
    "plt.title(r'Error = $B_{exp} - B_{th} (W.u.)$ ')\n",
    "plt.show()\n",
    "print(f'Error mean = {np.mean(Berr_Wu_vec)}')\n",
    "print(f'Error std = {np.std(Berr_Wu_vec)}')\n",
    "\n",
    "fig = plt.figure(figsize=(10,6))\n",
    "plt.hist(Berr_Wu_vec/Bexp_Wu_vec,bins=20)\n",
    "plt.title(r'Relative error = $(B_{exp} - B_{th})/B_{exp} (W.u.)$ ')\n",
    "plt.show()\n",
    "print(f'Relative error mean = {np.mean(Berr_Wu_vec/Bexp_Wu_vec)}')\n",
    "print(f'Relative error std = {np.std(Berr_Wu_vec/Bexp_Wu_vec)}')"
   ]
  },
  {
   "cell_type": "code",
   "execution_count": 15,
   "metadata": {
    "scrolled": false
   },
   "outputs": [
    {
     "name": "stdout",
     "output_type": "stream",
     "text": [
      "     fun: 4.5372648752193775e-17\n",
      "    nfev: 17\n",
      "     nit: 10\n",
      " success: True\n",
      "       x: 4.054741089507722\n"
     ]
    },
    {
     "data": {
      "image/png": "[encoded data removed]",
      "text/plain": [
       "<Figure size 432x288 with 1 Axes>"
      ]
     },
     "metadata": {
      "needs_background": "light"
     },
     "output_type": "display_data"
    }
   ],
   "source": [
    "from scipy.optimize import minimize, minimize_scalar, dual_annealing, brute\n",
    "\n",
    "def chi_squared(theta,sigmaB_apriori):\n",
    "    sqr_errors = (Bexp_Wu_vec - Bth_model_Wu_v1(theta,A_vec,Mth_p_usdb_vec,Mth_n_usdb_vec))**2\n",
    "    B_unc_sqr_vec = np.array( [(sigmaB_apriori**2 + sigmaB**2) for sigmaB in Bexp_unc_Wu_vec])\n",
    "    R_sqr =  sqr_errors / B_unc_sqr_vec\n",
    "    return  np.sum(R_sqr)\n",
    "\n",
    "def obj(sigmaB_apriori):\n",
    "#     theta_0 = 1.64, 0.45\n",
    "    theta_0 = 1.41,0.41\n",
    "    X2 = chi_squared(theta_0,sigmaB_apriori)\n",
    "    dof = n_transitions - n_params\n",
    "    return (1-(X2/dof))**2\n",
    "\n",
    "# opt_result = minimize(obj,x0=4, bounds = [(0.1,20)])\n",
    "# opt_result = dual_annealing(obj, bounds=[(0.,100.)])\n",
    "# opt_result = brute(obj,ranges=[(0.,10.)], Ns=10**3, workers=-1)\n",
    "opt_result = minimize_scalar(obj)\n",
    "print(opt_result)\n",
    "\n",
    "x = np.linspace(0,100,1000)\n",
    "y = np.array([obj(q) for q in x])\n",
    "plt.semilogy(x,y)\n",
    "plt.show()"
   ]
  },
  {
   "cell_type": "code",
   "execution_count": 16,
   "metadata": {},
   "outputs": [
    {
     "name": "stdout",
     "output_type": "stream",
     "text": [
      "A priori B(E2) uncertainty (W.u.) = 4.054741089507722\n"
     ]
    }
   ],
   "source": [
    "sigmaB_apriori = opt_result.x\n",
    "print(f'A priori B(E2) uncertainty (W.u.) = {sigmaB_apriori}')"
   ]
  },
  {
   "cell_type": "code",
   "execution_count": null,
   "metadata": {},
   "outputs": [],
   "source": []
  },
  {
   "cell_type": "code",
   "execution_count": null,
   "metadata": {},
   "outputs": [],
   "source": []
  }
 ],
 "metadata": {
  "kernelspec": {
   "display_name": "uq",
   "language": "python",
   "name": "uq"
  },
  "language_info": {
   "codemirror_mode": {
    "name": "ipython",
    "version": 3
   },
   "file_extension": ".py",
   "mimetype": "text/x-python",
   "name": "python",
   "nbconvert_exporter": "python",
   "pygments_lexer": "ipython3",
   "version": "3.7.10"
  }
 },
 "nbformat": 4,
 "nbformat_minor": 4
}
